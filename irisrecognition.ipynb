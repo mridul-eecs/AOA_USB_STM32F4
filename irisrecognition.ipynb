{
  "nbformat": 4,
  "nbformat_minor": 0,
  "metadata": {
    "colab": {
      "name": "irisrecognition.ipynb",
      "provenance": [],
      "collapsed_sections": [],
      "authorship_tag": "ABX9TyOJ9owWIC6g8JgV+A/I9EfO",
      "include_colab_link": true
    },
    "kernelspec": {
      "name": "python3",
      "display_name": "Python 3"
    },
    "accelerator": "GPU",
    "widgets": {
      "application/vnd.jupyter.widget-state+json": {
        "b2d36d21fb0e41e2b2e0fa963df5456a": {
          "model_module": "@jupyter-widgets/controls",
          "model_name": "HBoxModel",
          "state": {
            "_view_name": "HBoxView",
            "_dom_classes": [],
            "_model_name": "HBoxModel",
            "_view_module": "@jupyter-widgets/controls",
            "_model_module_version": "1.5.0",
            "_view_count": null,
            "_view_module_version": "1.5.0",
            "box_style": "",
            "layout": "IPY_MODEL_9967642d8fac4c09bd48f477446815e1",
            "_model_module": "@jupyter-widgets/controls",
            "children": [
              "IPY_MODEL_6d39163b22584237851e154da2949a23",
              "IPY_MODEL_f9c9dbf922ae4faea829367cb548df0c"
            ]
          }
        },
        "9967642d8fac4c09bd48f477446815e1": {
          "model_module": "@jupyter-widgets/base",
          "model_name": "LayoutModel",
          "state": {
            "_view_name": "LayoutView",
            "grid_template_rows": null,
            "right": null,
            "justify_content": null,
            "_view_module": "@jupyter-widgets/base",
            "overflow": null,
            "_model_module_version": "1.2.0",
            "_view_count": null,
            "flex_flow": null,
            "width": null,
            "min_width": null,
            "border": null,
            "align_items": null,
            "bottom": null,
            "_model_module": "@jupyter-widgets/base",
            "top": null,
            "grid_column": null,
            "overflow_y": null,
            "overflow_x": null,
            "grid_auto_flow": null,
            "grid_area": null,
            "grid_template_columns": null,
            "flex": null,
            "_model_name": "LayoutModel",
            "justify_items": null,
            "grid_row": null,
            "max_height": null,
            "align_content": null,
            "visibility": null,
            "align_self": null,
            "height": null,
            "min_height": null,
            "padding": null,
            "grid_auto_rows": null,
            "grid_gap": null,
            "max_width": null,
            "order": null,
            "_view_module_version": "1.2.0",
            "grid_template_areas": null,
            "object_position": null,
            "object_fit": null,
            "grid_auto_columns": null,
            "margin": null,
            "display": null,
            "left": null
          }
        },
        "6d39163b22584237851e154da2949a23": {
          "model_module": "@jupyter-widgets/controls",
          "model_name": "IntProgressModel",
          "state": {
            "_view_name": "ProgressView",
            "style": "IPY_MODEL_0737d258016c438ab1054203bd59314b",
            "_dom_classes": [],
            "description": "",
            "_model_name": "IntProgressModel",
            "bar_style": "danger",
            "max": 100,
            "_view_module": "@jupyter-widgets/controls",
            "_model_module_version": "1.5.0",
            "value": 0,
            "_view_count": null,
            "_view_module_version": "1.5.0",
            "orientation": "horizontal",
            "min": 0,
            "description_tooltip": null,
            "_model_module": "@jupyter-widgets/controls",
            "layout": "IPY_MODEL_47ae5060362448aea44b0ea9fdef21fc"
          }
        },
        "f9c9dbf922ae4faea829367cb548df0c": {
          "model_module": "@jupyter-widgets/controls",
          "model_name": "HTMLModel",
          "state": {
            "_view_name": "HTMLView",
            "style": "IPY_MODEL_8672452836a54d609dc556d3aa7f03bf",
            "_dom_classes": [],
            "description": "",
            "_model_name": "HTMLModel",
            "placeholder": "​",
            "_view_module": "@jupyter-widgets/controls",
            "_model_module_version": "1.5.0",
            "value": "  0% 0/100 [00:00&lt;?, ?it/s]",
            "_view_count": null,
            "_view_module_version": "1.5.0",
            "description_tooltip": null,
            "_model_module": "@jupyter-widgets/controls",
            "layout": "IPY_MODEL_f916a7f97c3a4d9cb0802ee2a063d314"
          }
        },
        "0737d258016c438ab1054203bd59314b": {
          "model_module": "@jupyter-widgets/controls",
          "model_name": "ProgressStyleModel",
          "state": {
            "_view_name": "StyleView",
            "_model_name": "ProgressStyleModel",
            "description_width": "",
            "_view_module": "@jupyter-widgets/base",
            "_model_module_version": "1.5.0",
            "_view_count": null,
            "_view_module_version": "1.2.0",
            "bar_color": null,
            "_model_module": "@jupyter-widgets/controls"
          }
        },
        "47ae5060362448aea44b0ea9fdef21fc": {
          "model_module": "@jupyter-widgets/base",
          "model_name": "LayoutModel",
          "state": {
            "_view_name": "LayoutView",
            "grid_template_rows": null,
            "right": null,
            "justify_content": null,
            "_view_module": "@jupyter-widgets/base",
            "overflow": null,
            "_model_module_version": "1.2.0",
            "_view_count": null,
            "flex_flow": null,
            "width": null,
            "min_width": null,
            "border": null,
            "align_items": null,
            "bottom": null,
            "_model_module": "@jupyter-widgets/base",
            "top": null,
            "grid_column": null,
            "overflow_y": null,
            "overflow_x": null,
            "grid_auto_flow": null,
            "grid_area": null,
            "grid_template_columns": null,
            "flex": null,
            "_model_name": "LayoutModel",
            "justify_items": null,
            "grid_row": null,
            "max_height": null,
            "align_content": null,
            "visibility": null,
            "align_self": null,
            "height": null,
            "min_height": null,
            "padding": null,
            "grid_auto_rows": null,
            "grid_gap": null,
            "max_width": null,
            "order": null,
            "_view_module_version": "1.2.0",
            "grid_template_areas": null,
            "object_position": null,
            "object_fit": null,
            "grid_auto_columns": null,
            "margin": null,
            "display": null,
            "left": null
          }
        },
        "8672452836a54d609dc556d3aa7f03bf": {
          "model_module": "@jupyter-widgets/controls",
          "model_name": "DescriptionStyleModel",
          "state": {
            "_view_name": "StyleView",
            "_model_name": "DescriptionStyleModel",
            "description_width": "",
            "_view_module": "@jupyter-widgets/base",
            "_model_module_version": "1.5.0",
            "_view_count": null,
            "_view_module_version": "1.2.0",
            "_model_module": "@jupyter-widgets/controls"
          }
        },
        "f916a7f97c3a4d9cb0802ee2a063d314": {
          "model_module": "@jupyter-widgets/base",
          "model_name": "LayoutModel",
          "state": {
            "_view_name": "LayoutView",
            "grid_template_rows": null,
            "right": null,
            "justify_content": null,
            "_view_module": "@jupyter-widgets/base",
            "overflow": null,
            "_model_module_version": "1.2.0",
            "_view_count": null,
            "flex_flow": null,
            "width": null,
            "min_width": null,
            "border": null,
            "align_items": null,
            "bottom": null,
            "_model_module": "@jupyter-widgets/base",
            "top": null,
            "grid_column": null,
            "overflow_y": null,
            "overflow_x": null,
            "grid_auto_flow": null,
            "grid_area": null,
            "grid_template_columns": null,
            "flex": null,
            "_model_name": "LayoutModel",
            "justify_items": null,
            "grid_row": null,
            "max_height": null,
            "align_content": null,
            "visibility": null,
            "align_self": null,
            "height": null,
            "min_height": null,
            "padding": null,
            "grid_auto_rows": null,
            "grid_gap": null,
            "max_width": null,
            "order": null,
            "_view_module_version": "1.2.0",
            "grid_template_areas": null,
            "object_position": null,
            "object_fit": null,
            "grid_auto_columns": null,
            "margin": null,
            "display": null,
            "left": null
          }
        }
      }
    }
  },
  "cells": [
    {
      "cell_type": "markdown",
      "metadata": {
        "id": "view-in-github",
        "colab_type": "text"
      },
      "source": [
        "<a href=\"https://colab.research.google.com/github/mridul-eecs/AOA_USB_STM32F4/blob/master/irisrecognition.ipynb\" target=\"_parent\"><img src=\"https://colab.research.google.com/assets/colab-badge.svg\" alt=\"Open In Colab\"/></a>"
      ]
    },
    {
      "cell_type": "code",
      "metadata": {
        "id": "0_GpOFTU-HAg",
        "colab_type": "code",
        "outputId": "b1b38622-f956-4d09-f129-1add27d23a5c",
        "colab": {
          "base_uri": "https://localhost:8080/",
          "height": 272
        }
      },
      "source": [
        "!git clone https://github.com/thuyngch/Iris-Recognition-PyTorch.git\n",
        "!git clone https://github.com/thuyngch/Iris-Recognition"
      ],
      "execution_count": 0,
      "outputs": [
        {
          "output_type": "stream",
          "text": [
            "Cloning into 'Iris-Recognition-PyTorch'...\n",
            "remote: Enumerating objects: 204, done.\u001b[K\n",
            "remote: Counting objects: 100% (204/204), done.\u001b[K\n",
            "remote: Compressing objects: 100% (148/148), done.\u001b[K\n",
            "remote: Total 204 (delta 103), reused 153 (delta 53), pack-reused 0\u001b[K\n",
            "Receiving objects: 100% (204/204), 1.00 MiB | 2.43 MiB/s, done.\n",
            "Resolving deltas: 100% (103/103), done.\n",
            "Cloning into 'Iris-Recognition'...\n",
            "remote: Enumerating objects: 7, done.\u001b[K\n",
            "remote: Counting objects: 100% (7/7), done.\u001b[K\n",
            "remote: Compressing objects: 100% (7/7), done.\u001b[K\n",
            "remote: Total 3896 (delta 1), reused 0 (delta 0), pack-reused 3889\u001b[K\n",
            "Receiving objects: 100% (3896/3896), 71.56 MiB | 21.47 MiB/s, done.\n",
            "Resolving deltas: 100% (1818/1818), done.\n",
            "Checking out files: 100% (1826/1826), done.\n"
          ],
          "name": "stdout"
        }
      ]
    },
    {
      "cell_type": "code",
      "metadata": {
        "id": "SQWcSnOr-KM_",
        "colab_type": "code",
        "outputId": "d23274f9-1164-4bdc-bfec-e35342a0b857",
        "colab": {
          "base_uri": "https://localhost:8080/",
          "height": 233
        }
      },
      "source": [
        "!git clone https://github.com/Tony607/efficientnet_keras_transfer_learning\n",
        "%cd efficientnet_keras_transfer_learning/\n",
        "\n",
        "\n",
        "from efficientnet import EfficientNetB0 as Net\n",
        "from efficientnet import center_crop_and_resize, preprocess_input"
      ],
      "execution_count": 0,
      "outputs": [
        {
          "output_type": "stream",
          "text": [
            "Cloning into 'efficientnet_keras_transfer_learning'...\n",
            "remote: Enumerating objects: 171, done.\u001b[K\n",
            "remote: Counting objects:   0% (1/171)\u001b[K\rremote: Counting objects:   1% (2/171)\u001b[K\rremote: Counting objects:   2% (4/171)\u001b[K\rremote: Counting objects:   3% (6/171)\u001b[K\rremote: Counting objects:   4% (7/171)\u001b[K\rremote: Counting objects:   5% (9/171)\u001b[K\rremote: Counting objects:   6% (11/171)\u001b[K\rremote: Counting objects:   7% (12/171)\u001b[K\rremote: Counting objects:   8% (14/171)\u001b[K\rremote: Counting objects:   9% (16/171)\u001b[K\rremote: Counting objects:  10% (18/171)\u001b[K\rremote: Counting objects:  11% (19/171)\u001b[K\rremote: Counting objects:  12% (21/171)\u001b[K\rremote: Counting objects:  13% (23/171)\u001b[K\rremote: Counting objects:  14% (24/171)\u001b[K\rremote: Counting objects:  15% (26/171)\u001b[K\rremote: Counting objects:  16% (28/171)\u001b[K\rremote: Counting objects:  17% (30/171)\u001b[K\rremote: Counting objects:  18% (31/171)\u001b[K\rremote: Counting objects:  19% (33/171)\u001b[K\rremote: Counting objects:  20% (35/171)\u001b[K\rremote: Counting objects:  21% (36/171)\u001b[K\rremote: Counting objects:  22% (38/171)\u001b[K\rremote: Counting objects:  23% (40/171)\u001b[K\rremote: Counting objects:  24% (42/171)\u001b[K\rremote: Counting objects:  25% (43/171)\u001b[K\rremote: Counting objects:  26% (45/171)\u001b[K\rremote: Counting objects:  27% (47/171)\u001b[K\rremote: Counting objects:  28% (48/171)\u001b[K\rremote: Counting objects:  29% (50/171)\u001b[K\rremote: Counting objects:  30% (52/171)\u001b[K\rremote: Counting objects:  31% (54/171)\u001b[K\rremote: Counting objects:  32% (55/171)\u001b[K\rremote: Counting objects:  33% (57/171)\u001b[K\rremote: Counting objects:  34% (59/171)\u001b[K\rremote: Counting objects:  35% (60/171)\u001b[K\rremote: Counting objects:  36% (62/171)\u001b[K\rremote: Counting objects:  37% (64/171)\u001b[K\rremote: Counting objects:  38% (65/171)\u001b[K\rremote: Counting objects:  39% (67/171)\u001b[K\rremote: Counting objects:  40% (69/171)\u001b[K\rremote: Counting objects:  41% (71/171)\u001b[K\rremote: Counting objects:  42% (72/171)\u001b[K\rremote: Counting objects:  43% (74/171)\u001b[K\rremote: Counting objects:  44% (76/171)\u001b[K\rremote: Counting objects:  45% (77/171)\u001b[K\rremote: Counting objects:  46% (79/171)\u001b[K\rremote: Counting objects:  47% (81/171)\u001b[K\rremote: Counting objects:  48% (83/171)\u001b[K\rremote: Counting objects:  49% (84/171)\u001b[K\rremote: Counting objects:  50% (86/171)\u001b[K\rremote: Counting objects:  51% (88/171)\u001b[K\rremote: Counting objects:  52% (89/171)\u001b[K\rremote: Counting objects:  53% (91/171)\u001b[K\rremote: Counting objects:  54% (93/171)\u001b[K\rremote: Counting objects:  55% (95/171)\u001b[K\rremote: Counting objects:  56% (96/171)\u001b[K\rremote: Counting objects:  57% (98/171)\u001b[K\rremote: Counting objects:  58% (100/171)\u001b[K\rremote: Counting objects:  59% (101/171)\u001b[K\rremote: Counting objects:  60% (103/171)\u001b[K\rremote: Counting objects:  61% (105/171)\u001b[K\rremote: Counting objects:  62% (107/171)\u001b[K\rremote: Counting objects:  63% (108/171)\u001b[K\rremote: Counting objects:  64% (110/171)\u001b[K\rremote: Counting objects:  65% (112/171)\u001b[K\rremote: Counting objects:  66% (113/171)\u001b[K\rremote: Counting objects:  67% (115/171)\u001b[K\rremote: Counting objects:  68% (117/171)\u001b[K\rremote: Counting objects:  69% (118/171)\u001b[K\rremote: Counting objects:  70% (120/171)\u001b[K\rremote: Counting objects:  71% (122/171)\u001b[K\rremote: Counting objects:  72% (124/171)\u001b[K\rremote: Counting objects:  73% (125/171)\u001b[K\rremote: Counting objects:  74% (127/171)\u001b[K\rremote: Counting objects:  75% (129/171)\u001b[K\rremote: Counting objects:  76% (130/171)\u001b[K\rremote: Counting objects:  77% (132/171)\u001b[K\rremote: Counting objects:  78% (134/171)\u001b[K\rremote: Counting objects:  79% (136/171)\u001b[K\rremote: Counting objects:  80% (137/171)\u001b[K\rremote: Counting objects:  81% (139/171)\u001b[K\rremote: Counting objects:  82% (141/171)\u001b[K\rremote: Counting objects:  83% (142/171)\u001b[K\rremote: Counting objects:  84% (144/171)\u001b[K\rremote: Counting objects:  85% (146/171)\u001b[K\rremote: Counting objects:  86% (148/171)\u001b[K\rremote: Counting objects:  87% (149/171)\u001b[K\rremote: Counting objects:  88% (151/171)\u001b[K\rremote: Counting objects:  89% (153/171)\u001b[K\rremote: Counting objects:  90% (154/171)\u001b[K\rremote: Counting objects:  91% (156/171)\u001b[K\rremote: Counting objects:  92% (158/171)\u001b[K\rremote: Counting objects:  93% (160/171)\u001b[K\rremote: Counting objects:  94% (161/171)\u001b[K\rremote: Counting objects:  95% (163/171)\u001b[K\rremote: Counting objects:  96% (165/171)\u001b[K\rremote: Counting objects:  97% (166/171)\u001b[K\rremote: Counting objects:  98% (168/171)\u001b[K\rremote: Counting objects:  99% (170/171)\u001b[K\rremote: Counting objects: 100% (171/171)\u001b[K\rremote: Counting objects: 100% (171/171), done.\u001b[K\n",
            "remote: Compressing objects: 100% (74/74), done.\u001b[K\n",
            "remote: Total 171 (delta 98), reused 161 (delta 93), pack-reused 0\u001b[K\n",
            "Receiving objects: 100% (171/171), 5.44 MiB | 3.41 MiB/s, done.\n",
            "Resolving deltas: 100% (98/98), done.\n",
            "/content/efficientnet_keras_transfer_learning\n"
          ],
          "name": "stdout"
        },
        {
          "output_type": "display_data",
          "data": {
            "text/html": [
              "<p style=\"color: red;\">\n",
              "The default version of TensorFlow in Colab will soon switch to TensorFlow 2.x.<br>\n",
              "We recommend you <a href=\"https://www.tensorflow.org/guide/migrate\" target=\"_blank\">upgrade</a> now \n",
              "or ensure your notebook will continue to use TensorFlow 1.x via the <code>%tensorflow_version 1.x</code> magic:\n",
              "<a href=\"https://colab.research.google.com/notebooks/tensorflow_version.ipynb\" target=\"_blank\">more info</a>.</p>\n"
            ],
            "text/plain": [
              "<IPython.core.display.HTML object>"
            ]
          },
          "metadata": {
            "tags": []
          }
        },
        {
          "output_type": "stream",
          "text": [
            "Using TensorFlow backend.\n"
          ],
          "name": "stderr"
        }
      ]
    },
    {
      "cell_type": "code",
      "metadata": {
        "id": "CNq_MrLBD92x",
        "colab_type": "code",
        "outputId": "991871c7-e5cc-4784-eaa2-3f3742711de9",
        "colab": {
          "base_uri": "https://localhost:8080/",
          "height": 770
        }
      },
      "source": [
        "import cv2\n",
        "import matplotlib.pyplot as plt\n",
        "from skimage.feature import hog\n",
        "\n",
        "\n",
        "def preprocess(filepath):\n",
        "  img= cv2.imread(filepath)\n",
        "  sx= img.shape[0]\n",
        "  sy= img.shape[1]\n",
        "  cropsizex= 60\n",
        "  cropsizey= 100\n",
        "  img= img[ 0+cropsizex:sx-cropsizex , 0+cropsizey:sy-cropsizey , :]\n",
        "  plt.imshow(img)\n",
        "  plt.show()\n",
        "  plt.figure()\n",
        "  fd, hog_image = hog(img, orientations=8, pixels_per_cell=(16, 16),\n",
        "                    cells_per_block=(1, 1), visualize=True, multichannel=True)\n",
        "  plt.imshow(hog_image)\n",
        "  plt.show()\n",
        "  plt.figure()\n",
        "  fd, hog_image = hog(img, orientations=20, pixels_per_cell=(4, 4),\n",
        "                    cells_per_block=(1, 1), visualize=True, multichannel=True)\n",
        "  plt.imshow(hog_image)\n",
        "  plt.show()\n",
        "\n",
        "preprocess(\"/content/Iris-Recognition/MMU2/4/040202.bmp\")"
      ],
      "execution_count": 0,
      "outputs": [
        {
          "output_type": "display_data",
          "data": {
            "image/png": "[encoded data removed]",
            "text/plain": [
              "<Figure size 432x288 with 1 Axes>"
            ]
          },
          "metadata": {
            "tags": []
          }
        },
        {
          "output_type": "display_data",
          "data": {
            "image/png": "[encoded data removed]",
            "text/plain": [
              "<Figure size 432x288 with 1 Axes>"
            ]
          },
          "metadata": {
            "tags": []
          }
        },
        {
          "output_type": "display_data",
          "data": {
            "image/png": "[encoded data removed]",
            "text/plain": [
              "<Figure size 432x288 with 1 Axes>"
            ]
          },
          "metadata": {
            "tags": []
          }
        }
      ]
    },
    {
      "cell_type": "code",
      "metadata": {
        "id": "hrPp99-OZlxo",
        "colab_type": "code",
        "outputId": "54b68e12-6c11-4e33-d163-7624a191e16f",
        "colab": {
          "base_uri": "https://localhost:8080/",
          "height": 83,
          "referenced_widgets": [
            "b2d36d21fb0e41e2b2e0fa963df5456a",
            "9967642d8fac4c09bd48f477446815e1",
            "6d39163b22584237851e154da2949a23",
            "f9c9dbf922ae4faea829367cb548df0c",
            "0737d258016c438ab1054203bd59314b",
            "47ae5060362448aea44b0ea9fdef21fc",
            "8672452836a54d609dc556d3aa7f03bf",
            "f916a7f97c3a4d9cb0802ee2a063d314"
          ]
        }
      },
      "source": [
        "import os\n",
        "import random, math\n",
        "from tqdm import tqdm_notebook as tqdm\n",
        "\n",
        "base= '/content/Iris-Recognition/MMU2'\n",
        "subjects= os.listdir(base)\n",
        "os.system(\"mkdir /content/test\".format(base))\n",
        "os.system(\"mkdir /content/train\".format(base))\n",
        "for a in tqdm(subjects):\n",
        "  os.system(\"mkdir /content/test/{}\".format(a))\n",
        "  os.system(\"mkdir /content/train/{}\".format(a))\n",
        "  files= os.listdir(os.path.join(base, a))\n",
        "  filestest= random.choices(files, k= int(len(files)/2))\n",
        "  filestrain= [x for x in files if x not in filestest] \n",
        "  for b in filestest:\n",
        "    print(\"cp {}/{}/{} /content/test/{}/\".format(base, a, b, a))\n",
        "    filepath= \"{}/{}/{}\".format(base, a, b)\n",
        "    preprocess(filepath)\n",
        "    break\n",
        "  break\n",
        "\n",
        "  # for b in filestest:\n",
        "  #   os.system(\"cp {}/{}/{} /content/test/{}/\".format(base, a, b, a))\n",
        "  # for b in filestrain:\n",
        "  #   os.system(\"cp {}/{}/{} /content/train/{}/\".format(base, a, b, a))"
      ],
      "execution_count": 0,
      "outputs": [
        {
          "output_type": "display_data",
          "data": {
            "application/vnd.jupyter.widget-view+json": {
              "model_id": "b2d36d21fb0e41e2b2e0fa963df5456a",
              "version_minor": 0,
              "version_major": 2
            },
            "text/plain": [
              "HBox(children=(IntProgress(value=0), HTML(value='')))"
            ]
          },
          "metadata": {
            "tags": []
          }
        },
        {
          "output_type": "stream",
          "text": [
            "cp /content/Iris-Recognition/MMU2/3/030202.bmp /content/test/3/\n",
            "\n"
          ],
          "name": "stdout"
        }
      ]
    },
    {
      "cell_type": "code",
      "metadata": {
        "id": "AM9Jd8NhfDJ4",
        "colab_type": "code",
        "outputId": "0126f142-7b89-4f3a-d138-2559dc5ed969",
        "colab": {
          "base_uri": "https://localhost:8080/",
          "height": 71
        }
      },
      "source": [
        "\n",
        "for a in os.listdir('/content/train'):\n",
        "  print(len(os.listdir('/content/train/' + a)), end= \" \")\n",
        "print(\"\")\n",
        "for a in os.listdir('/content/test'):\n",
        "  print(len(os.listdir('/content/test/' + a)), end= \" \")\n",
        "    "
      ],
      "execution_count": 0,
      "outputs": [
        {
          "output_type": "stream",
          "text": [
            "7 6 5 6 6 7 6 6 5 5 7 7 6 5 6 6 5 5 7 6 5 6 6 5 6 6 6 7 5 6 5 5 6 6 7 5 6 7 7 6 6 6 6 5 6 5 5 6 6 7 6 5 6 5 6 6 6 7 6 5 5 5 6 6 5 8 6 6 5 6 5 6 6 6 6 6 7 5 6 5 6 6 6 5 6 6 7 5 5 6 7 6 3 6 5 6 5 6 6 6 \n",
            "3 4 5 4 4 3 4 4 5 5 3 3 4 5 4 4 5 5 3 4 5 4 4 5 4 4 4 3 5 4 5 5 4 4 3 5 4 3 3 4 4 4 4 5 4 5 5 4 4 3 4 5 4 5 4 4 4 3 4 5 5 5 4 4 5 2 4 4 5 4 5 4 4 4 4 4 3 5 4 5 4 4 4 5 4 4 3 5 5 4 3 4 2 4 5 4 5 4 4 4 "
          ],
          "name": "stdout"
        }
      ]
    },
    {
      "cell_type": "code",
      "metadata": {
        "id": "VQv8U8dzBovL",
        "colab_type": "code",
        "colab": {}
      },
      "source": [
        "# Hyper parameters\n",
        "batch_size = 48\n",
        "width = 150\n",
        "height = 150\n",
        "epochs = 20\n",
        "NUM_TRAIN = 2000\n",
        "NUM_TEST = 1000\n",
        "dropout_rate = 0.2\n",
        "input_shape = (height, width, 3)"
      ],
      "execution_count": 0,
      "outputs": []
    },
    {
      "cell_type": "code",
      "metadata": {
        "id": "xZUktHm0AmSZ",
        "colab_type": "code",
        "outputId": "881d2f5b-8f05-4781-ec7a-eb6fea99b7c5",
        "colab": {
          "base_uri": "https://localhost:8080/",
          "height": 513
        }
      },
      "source": [
        "from tensorflow.keras import models\n",
        "from tensorflow.keras import layers\n",
        "from tensorflow.keras import optimizers\n",
        "\n",
        "# loading pretrained conv base model\n",
        "conv_base = Net(weights=\"imagenet\", include_top=False, input_shape=input_shape)\n",
        "dropout_rate = 0.2\n",
        "model = models.Sequential()\n",
        "model.add(conv_base)\n",
        "model.add(layers.GlobalMaxPooling2D(name=\"gap\"))\n",
        "# model.add(layers.Flatten(name=\"flatten\"))\n",
        "if dropout_rate > 0:\n",
        "    model.add(layers.Dropout(dropout_rate, name=\"dropout_out\"))\n",
        "# model.add(layers.Dense(256, activation='relu', name=\"fc1\"))\n",
        "model.add(layers.Dense(100, activation=\"softmax\", name=\"fc_out\"))\n",
        "\n",
        "# conv_base.trainable = False\n",
        "# (global_pool): SelectAdaptivePool2d (output_size=1, pool_type=avg)\n",
        "# (classifier): Linear(in_features=1280, out_features=100, bias=True)\n",
        "model.summary()"
      ],
      "execution_count": 0,
      "outputs": [
        {
          "output_type": "stream",
          "text": [
            "WARNING:tensorflow:From /content/efficientnet_keras_transfer_learning/efficientnet/model.py:67: The name tf.random_normal is deprecated. Please use tf.random.normal instead.\n",
            "\n",
            "WARNING:tensorflow:From /usr/local/lib/python3.6/dist-packages/tensorflow_core/python/ops/resource_variable_ops.py:1630: calling BaseResourceVariable.__init__ (from tensorflow.python.ops.resource_variable_ops) with constraint is deprecated and will be removed in a future version.\n",
            "Instructions for updating:\n",
            "If using Keras pass *_constraint arguments to layers.\n",
            "WARNING:tensorflow:From /usr/local/lib/python3.6/dist-packages/tensorflow_core/python/autograph/converters/directives.py:119: The name tf.random_uniform is deprecated. Please use tf.random.uniform instead.\n",
            "\n",
            "WARNING:tensorflow:From /content/efficientnet_keras_transfer_learning/efficientnet/layers.py:30: div (from tensorflow.python.ops.math_ops) is deprecated and will be removed in a future version.\n",
            "Instructions for updating:\n",
            "Deprecated in favor of operator or tf.math.divide.\n",
            "Downloading data from https://github.com/qubvel/efficientnet/releases/download/v0.0.1/efficientnet-b0_imagenet_1000_notop.h5\n",
            "16719872/16717576 [==============================] - 1s 0us/step\n",
            "Model: \"sequential\"\n",
            "_________________________________________________________________\n",
            "Layer (type)                 Output Shape              Param #   \n",
            "=================================================================\n",
            "efficientnet-b0 (Model)      (None, 5, 5, 1280)        4049564   \n",
            "_________________________________________________________________\n",
            "gap (GlobalMaxPooling2D)     (None, 1280)              0         \n",
            "_________________________________________________________________\n",
            "dropout_out (Dropout)        (None, 1280)              0         \n",
            "_________________________________________________________________\n",
            "fc_out (Dense)               (None, 100)               128100    \n",
            "=================================================================\n",
            "Total params: 4,177,664\n",
            "Trainable params: 4,135,648\n",
            "Non-trainable params: 42,016\n",
            "_________________________________________________________________\n"
          ],
          "name": "stdout"
        }
      ]
    },
    {
      "cell_type": "code",
      "metadata": {
        "id": "ZPcxX1oxA3pf",
        "colab_type": "code",
        "colab": {}
      },
      "source": [
        ""
      ],
      "execution_count": 0,
      "outputs": []
    },
    {
      "cell_type": "code",
      "metadata": {
        "id": "gmLvR-AEFqgN",
        "colab_type": "code",
        "outputId": "15043d2e-85aa-4ad4-b063-a2377d689c7e",
        "colab": {
          "base_uri": "https://localhost:8080/",
          "height": 51
        }
      },
      "source": [
        "from tensorflow.keras.preprocessing.image import ImageDataGenerator\n",
        "\n",
        "train_datagen = ImageDataGenerator(\n",
        "    rescale=1.0 / 255,\n",
        "    rotation_range=40,\n",
        "    width_shift_range=0.2,\n",
        "    height_shift_range=0.2,\n",
        "    shear_range=0.2,\n",
        "    zoom_range=0.2,\n",
        "    horizontal_flip=True,\n",
        "    fill_mode=\"nearest\",\n",
        ")\n",
        "# Note that the validation data should not be augmented!\n",
        "test_datagen = ImageDataGenerator(rescale=1.0 / 255)\n",
        "\n",
        "train_generator = train_datagen.flow_from_directory(\n",
        "    # This is the target directory\n",
        "    '/content/Iris-Recognition/MMU2',\n",
        "    # All images will be resized to target height and width.\n",
        "    target_size=(height, width),\n",
        "    batch_size=batch_size,\n",
        "    # Since we use categorical_crossentropy loss, we need categorical labels\n",
        "    class_mode=\"categorical\",\n",
        ")\n",
        "validation_generator = test_datagen.flow_from_directory(\n",
        "    '/content/Iris-Recognition/MMU2_test',\n",
        "    target_size=(height, width),\n",
        "    batch_size=batch_size,\n",
        "    class_mode=\"categorical\",\n",
        ")\n",
        "model.compile(\n",
        "    loss=\"categorical_crossentropy\",\n",
        "    optimizer=optimizers.Adam(lr= 0.0001),\n",
        "    metrics=['accuracy']\n",
        ")\n"
      ],
      "execution_count": 0,
      "outputs": [
        {
          "output_type": "stream",
          "text": [
            "Found 585 images belonging to 100 classes.\n",
            "Found 410 images belonging to 100 classes.\n"
          ],
          "name": "stdout"
        }
      ]
    },
    {
      "cell_type": "code",
      "metadata": {
        "id": "2E2x8DicUrb0",
        "colab_type": "code",
        "colab": {}
      },
      "source": [
        "# from tensorflow.keras.utils import plot_model\n",
        "# plot_model(conv_base, to_file='conv_base.png', show_shapes=True)\n",
        "# from IPython.display import Image\n",
        "# Image(filename='conv_base.png') "
      ],
      "execution_count": 0,
      "outputs": []
    },
    {
      "cell_type": "code",
      "metadata": {
        "id": "6S_oPZF5HR2O",
        "colab_type": "code",
        "outputId": "ab19285b-99ca-4b2f-94bc-562ebec90c7f",
        "colab": {
          "base_uri": "https://localhost:8080/",
          "height": 1000
        }
      },
      "source": [
        "import tensorflow as tf\n",
        "history = model.fit_generator(\n",
        "    train_generator,\n",
        "    steps_per_epoch=NUM_TRAIN // batch_size,\n",
        "    epochs=1000,\n",
        "    validation_data=validation_generator,\n",
        "    validation_steps=NUM_TEST // batch_size,\n",
        "    verbose=1,\n",
        "    callbacks= [tf.keras.callbacks.EarlyStopping(monitor='val_loss', patience=10)]\n",
        "\n",
        ")"
      ],
      "execution_count": 0,
      "outputs": [
        {
          "output_type": "stream",
          "text": [
            "Epoch 1/1000\n",
            "40/41 [============================>.] - ETA: 0s - loss: 8.2940 - acc: 0.0183Epoch 1/1000\n",
            "41/41 [==============================] - 40s 986ms/step - loss: 8.2871 - acc: 0.0184 - val_loss: 6.6863 - val_acc: 0.0273\n",
            "Epoch 2/1000\n",
            "40/41 [============================>.] - ETA: 0s - loss: 6.2728 - acc: 0.0460Epoch 1/1000\n",
            "41/41 [==============================] - 15s 362ms/step - loss: 6.2481 - acc: 0.0497 - val_loss: 6.0093 - val_acc: 0.0229\n",
            "Epoch 3/1000\n",
            "40/41 [============================>.] - ETA: 0s - loss: 4.8476 - acc: 0.1230Epoch 1/1000\n",
            "41/41 [==============================] - 15s 369ms/step - loss: 4.8300 - acc: 0.1258 - val_loss: 5.2162 - val_acc: 0.0524\n",
            "Epoch 4/1000\n",
            "40/41 [============================>.] - ETA: 0s - loss: 3.8232 - acc: 0.2302Epoch 1/1000\n",
            "41/41 [==============================] - 15s 370ms/step - loss: 3.8201 - acc: 0.2301 - val_loss: 4.3213 - val_acc: 0.1059\n",
            "Epoch 5/1000\n",
            "40/41 [============================>.] - ETA: 0s - loss: 2.9351 - acc: 0.3145Epoch 1/1000\n",
            "41/41 [==============================] - 15s 375ms/step - loss: 2.9237 - acc: 0.3144 - val_loss: 3.5273 - val_acc: 0.2336\n",
            "Epoch 6/1000\n",
            "40/41 [============================>.] - ETA: 0s - loss: 2.1983 - acc: 0.4582Epoch 1/1000\n",
            "41/41 [==============================] - 15s 376ms/step - loss: 2.2096 - acc: 0.4587 - val_loss: 3.2444 - val_acc: 0.2893\n",
            "Epoch 7/1000\n",
            "40/41 [============================>.] - ETA: 0s - loss: 1.6510 - acc: 0.5580Epoch 1/1000\n",
            "41/41 [==============================] - 16s 394ms/step - loss: 1.6506 - acc: 0.5565 - val_loss: 3.0616 - val_acc: 0.3002\n",
            "Epoch 8/1000\n",
            "40/41 [============================>.] - ETA: 0s - loss: 1.2960 - acc: 0.6534Epoch 1/1000\n",
            "41/41 [==============================] - 16s 379ms/step - loss: 1.2823 - acc: 0.6553 - val_loss: 3.0177 - val_acc: 0.3057\n",
            "Epoch 9/1000\n",
            "40/41 [============================>.] - ETA: 0s - loss: 1.0124 - acc: 0.7216Epoch 1/1000\n",
            "41/41 [==============================] - 15s 377ms/step - loss: 1.0073 - acc: 0.7234 - val_loss: 2.7087 - val_acc: 0.3362\n",
            "Epoch 10/1000\n",
            "40/41 [============================>.] - ETA: 0s - loss: 0.8152 - acc: 0.7903Epoch 1/1000\n",
            "41/41 [==============================] - 15s 378ms/step - loss: 0.8107 - acc: 0.7909 - val_loss: 2.3963 - val_acc: 0.3799\n",
            "Epoch 11/1000\n",
            "40/41 [============================>.] - ETA: 0s - loss: 0.6496 - acc: 0.8203Epoch 1/1000\n",
            "41/41 [==============================] - 15s 372ms/step - loss: 0.6413 - acc: 0.8234 - val_loss: 2.1355 - val_acc: 0.4531\n",
            "Epoch 12/1000\n",
            "40/41 [============================>.] - ETA: 0s - loss: 0.5049 - acc: 0.8602Epoch 1/1000\n",
            "41/41 [==============================] - 16s 379ms/step - loss: 0.5034 - acc: 0.8601 - val_loss: 1.7494 - val_acc: 0.5262\n",
            "Epoch 13/1000\n",
            "40/41 [============================>.] - ETA: 0s - loss: 0.4604 - acc: 0.8780Epoch 1/1000\n",
            "41/41 [==============================] - 16s 385ms/step - loss: 0.4593 - acc: 0.8784 - val_loss: 1.2133 - val_acc: 0.6507\n",
            "Epoch 14/1000\n",
            "40/41 [============================>.] - ETA: 0s - loss: 0.3892 - acc: 0.8869Epoch 1/1000\n",
            "41/41 [==============================] - 15s 375ms/step - loss: 0.3866 - acc: 0.8865 - val_loss: 0.7851 - val_acc: 0.7773\n",
            "Epoch 15/1000\n",
            "40/41 [============================>.] - ETA: 0s - loss: 0.3050 - acc: 0.9157Epoch 1/1000\n",
            "41/41 [==============================] - 16s 385ms/step - loss: 0.3068 - acc: 0.9146 - val_loss: 0.4575 - val_acc: 0.8679\n",
            "Epoch 16/1000\n",
            "40/41 [============================>.] - ETA: 0s - loss: 0.2632 - acc: 0.9262Epoch 1/1000\n",
            "41/41 [==============================] - 15s 377ms/step - loss: 0.2614 - acc: 0.9265 - val_loss: 0.3412 - val_acc: 0.8996\n",
            "Epoch 17/1000\n",
            "40/41 [============================>.] - ETA: 0s - loss: 0.2123 - acc: 0.9362Epoch 1/1000\n",
            "41/41 [==============================] - 15s 377ms/step - loss: 0.2151 - acc: 0.9352 - val_loss: 0.1958 - val_acc: 0.9487\n",
            "Epoch 18/1000\n",
            "40/41 [============================>.] - ETA: 0s - loss: 0.2052 - acc: 0.9434Epoch 1/1000\n",
            "41/41 [==============================] - 16s 379ms/step - loss: 0.2024 - acc: 0.9449 - val_loss: 0.1206 - val_acc: 0.9683\n",
            "Epoch 19/1000\n",
            "40/41 [============================>.] - ETA: 0s - loss: 0.1737 - acc: 0.9534Epoch 1/1000\n",
            "41/41 [==============================] - 15s 378ms/step - loss: 0.1709 - acc: 0.9536 - val_loss: 0.1080 - val_acc: 0.9749\n",
            "Epoch 20/1000\n",
            "40/41 [============================>.] - ETA: 0s - loss: 0.1709 - acc: 0.9495Epoch 1/1000\n",
            "41/41 [==============================] - 16s 387ms/step - loss: 0.1716 - acc: 0.9487 - val_loss: 0.0862 - val_acc: 0.9793\n",
            "Epoch 21/1000\n",
            "40/41 [============================>.] - ETA: 0s - loss: 0.1826 - acc: 0.9529Epoch 1/1000\n",
            "41/41 [==============================] - 16s 386ms/step - loss: 0.1805 - acc: 0.9525 - val_loss: 0.0816 - val_acc: 0.9858\n",
            "Epoch 22/1000\n",
            "40/41 [============================>.] - ETA: 0s - loss: 0.1365 - acc: 0.9571Epoch 1/1000\n",
            "41/41 [==============================] - 16s 381ms/step - loss: 0.1361 - acc: 0.9577 - val_loss: 0.0769 - val_acc: 0.9869\n",
            "Epoch 23/1000\n",
            "40/41 [============================>.] - ETA: 0s - loss: 0.1094 - acc: 0.9706Epoch 1/1000\n",
            "41/41 [==============================] - 15s 374ms/step - loss: 0.1102 - acc: 0.9697 - val_loss: 0.0868 - val_acc: 0.9825\n",
            "Epoch 24/1000\n",
            "40/41 [============================>.] - ETA: 0s - loss: 0.1306 - acc: 0.9671Epoch 1/1000\n",
            "41/41 [==============================] - 15s 370ms/step - loss: 0.1283 - acc: 0.9680 - val_loss: 0.0879 - val_acc: 0.9836\n",
            "Epoch 25/1000\n",
            "40/41 [============================>.] - ETA: 0s - loss: 0.1271 - acc: 0.9695Epoch 1/1000\n",
            "41/41 [==============================] - 16s 383ms/step - loss: 0.1274 - acc: 0.9697 - val_loss: 0.0729 - val_acc: 0.9869\n",
            "Epoch 26/1000\n",
            "40/41 [============================>.] - ETA: 0s - loss: 0.0766 - acc: 0.9784Epoch 1/1000\n",
            "41/41 [==============================] - 16s 386ms/step - loss: 0.0755 - acc: 0.9789 - val_loss: 0.0780 - val_acc: 0.9858\n",
            "Epoch 27/1000\n",
            "40/41 [============================>.] - ETA: 0s - loss: 0.1098 - acc: 0.9689Epoch 1/1000\n",
            "41/41 [==============================] - 15s 377ms/step - loss: 0.1081 - acc: 0.9692 - val_loss: 0.0852 - val_acc: 0.9738\n",
            "Epoch 28/1000\n",
            "40/41 [============================>.] - ETA: 0s - loss: 0.1111 - acc: 0.9750Epoch 1/1000\n",
            "41/41 [==============================] - 15s 377ms/step - loss: 0.1105 - acc: 0.9746 - val_loss: 0.0760 - val_acc: 0.9825\n",
            "Epoch 29/1000\n",
            "40/41 [============================>.] - ETA: 0s - loss: 0.0842 - acc: 0.9762Epoch 1/1000\n",
            "41/41 [==============================] - 16s 381ms/step - loss: 0.0830 - acc: 0.9768 - val_loss: 0.0842 - val_acc: 0.9825\n",
            "Epoch 30/1000\n",
            "40/41 [============================>.] - ETA: 0s - loss: 0.0968 - acc: 0.9756Epoch 1/1000\n",
            "41/41 [==============================] - 16s 383ms/step - loss: 0.0946 - acc: 0.9762 - val_loss: 0.0748 - val_acc: 0.9825\n",
            "Epoch 31/1000\n",
            "40/41 [============================>.] - ETA: 0s - loss: 0.1198 - acc: 0.9807Epoch 1/1000\n",
            "41/41 [==============================] - 16s 379ms/step - loss: 0.1182 - acc: 0.9796 - val_loss: 0.0652 - val_acc: 0.9847\n",
            "Epoch 32/1000\n",
            "40/41 [============================>.] - ETA: 0s - loss: 0.0923 - acc: 0.9773Epoch 1/1000\n",
            "41/41 [==============================] - 16s 379ms/step - loss: 0.0932 - acc: 0.9768 - val_loss: 0.0655 - val_acc: 0.9814\n",
            "Epoch 33/1000\n",
            "40/41 [============================>.] - ETA: 0s - loss: 0.0603 - acc: 0.9839Epoch 1/1000\n",
            "41/41 [==============================] - 16s 390ms/step - loss: 0.0599 - acc: 0.9838 - val_loss: 0.0634 - val_acc: 0.9858\n",
            "Epoch 34/1000\n",
            "40/41 [============================>.] - ETA: 0s - loss: 0.0642 - acc: 0.9828Epoch 1/1000\n",
            "41/41 [==============================] - 15s 377ms/step - loss: 0.0631 - acc: 0.9833 - val_loss: 0.0569 - val_acc: 0.9858\n",
            "Epoch 35/1000\n",
            "40/41 [============================>.] - ETA: 0s - loss: 0.0516 - acc: 0.9864Epoch 1/1000\n",
            "41/41 [==============================] - 15s 371ms/step - loss: 0.0502 - acc: 0.9868 - val_loss: 0.0595 - val_acc: 0.9858\n",
            "Epoch 36/1000\n",
            "40/41 [============================>.] - ETA: 0s - loss: 0.0576 - acc: 0.9826Epoch 1/1000\n",
            "41/41 [==============================] - 16s 384ms/step - loss: 0.0608 - acc: 0.9822 - val_loss: 0.0637 - val_acc: 0.9836\n",
            "Epoch 37/1000\n",
            "40/41 [============================>.] - ETA: 0s - loss: 0.0891 - acc: 0.9806Epoch 1/1000\n",
            "41/41 [==============================] - 15s 376ms/step - loss: 0.0866 - acc: 0.9811 - val_loss: 0.0743 - val_acc: 0.9803\n",
            "Epoch 38/1000\n",
            "40/41 [============================>.] - ETA: 0s - loss: 0.0515 - acc: 0.9856Epoch 1/1000\n",
            "41/41 [==============================] - 16s 382ms/step - loss: 0.0521 - acc: 0.9854 - val_loss: 0.0464 - val_acc: 0.9869\n",
            "Epoch 39/1000\n",
            "40/41 [============================>.] - ETA: 0s - loss: 0.0760 - acc: 0.9800Epoch 1/1000\n",
            "41/41 [==============================] - 16s 386ms/step - loss: 0.0742 - acc: 0.9806 - val_loss: 0.0601 - val_acc: 0.9891\n",
            "Epoch 40/1000\n",
            "40/41 [============================>.] - ETA: 0s - loss: 0.0635 - acc: 0.9861Epoch 1/1000\n",
            "41/41 [==============================] - 16s 379ms/step - loss: 0.0630 - acc: 0.9860 - val_loss: 0.0615 - val_acc: 0.9836\n",
            "Epoch 41/1000\n",
            "40/41 [============================>.] - ETA: 0s - loss: 0.0526 - acc: 0.9824Epoch 1/1000\n",
            "41/41 [==============================] - 15s 369ms/step - loss: 0.0528 - acc: 0.9818 - val_loss: 0.0652 - val_acc: 0.9814\n",
            "Epoch 42/1000\n",
            "40/41 [============================>.] - ETA: 0s - loss: 0.0373 - acc: 0.9919Epoch 1/1000\n",
            "41/41 [==============================] - 16s 381ms/step - loss: 0.0375 - acc: 0.9915 - val_loss: 0.0566 - val_acc: 0.9858\n",
            "Epoch 43/1000\n",
            "40/41 [============================>.] - ETA: 0s - loss: 0.0321 - acc: 0.9892Epoch 1/1000\n",
            "41/41 [==============================] - 15s 370ms/step - loss: 0.0324 - acc: 0.9890 - val_loss: 0.0588 - val_acc: 0.9847\n",
            "Epoch 44/1000\n",
            "40/41 [============================>.] - ETA: 0s - loss: 0.0432 - acc: 0.9861Epoch 1/1000\n",
            "41/41 [==============================] - 15s 375ms/step - loss: 0.0429 - acc: 0.9860 - val_loss: 0.0738 - val_acc: 0.9880\n",
            "Epoch 45/1000\n",
            "40/41 [============================>.] - ETA: 0s - loss: 0.0612 - acc: 0.9895Epoch 1/1000\n",
            "41/41 [==============================] - 15s 373ms/step - loss: 0.0604 - acc: 0.9892 - val_loss: 0.0514 - val_acc: 0.9913\n",
            "Epoch 46/1000\n",
            "40/41 [============================>.] - ETA: 0s - loss: 0.0363 - acc: 0.9906Epoch 1/1000\n",
            "41/41 [==============================] - 16s 388ms/step - loss: 0.0358 - acc: 0.9908 - val_loss: 0.0486 - val_acc: 0.9913\n",
            "Epoch 47/1000\n",
            "40/41 [============================>.] - ETA: 0s - loss: 0.0452 - acc: 0.9911Epoch 1/1000\n",
            "41/41 [==============================] - 15s 375ms/step - loss: 0.0459 - acc: 0.9908 - val_loss: 0.0794 - val_acc: 0.9793\n",
            "Epoch 48/1000\n",
            "40/41 [============================>.] - ETA: 0s - loss: 0.0501 - acc: 0.9864Epoch 1/1000\n",
            "41/41 [==============================] - 15s 369ms/step - loss: 0.0489 - acc: 0.9868 - val_loss: 0.0690 - val_acc: 0.9836\n"
          ],
          "name": "stdout"
        }
      ]
    },
    {
      "cell_type": "code",
      "metadata": {
        "id": "QVpzXWDzYGr4",
        "colab_type": "code",
        "outputId": "5cc760a0-d5c3-4598-864d-7c626aca3e7d",
        "colab": {
          "base_uri": "https://localhost:8080/",
          "height": 573
        }
      },
      "source": [
        "import matplotlib.pyplot as plt\n",
        "# summarize history for accuracy\n",
        "plt.plot(history.history['acc'])\n",
        "plt.plot(history.history['val_acc'])\n",
        "plt.title('model accuracy')\n",
        "plt.ylabel('acc')\n",
        "plt.xlabel('epoch')\n",
        "plt.legend(['train', 'test'], loc='upper left')\n",
        "plt.show()\n",
        "# summarize history for loss\n",
        "plt.plot(history.history['loss'])\n",
        "plt.plot(history.history['val_loss'])\n",
        "plt.title('model loss')\n",
        "plt.ylabel('loss')\n",
        "plt.xlabel('epoch')\n",
        "plt.legend(['train', 'test'], loc='upper left')\n",
        "plt.show()"
      ],
      "execution_count": 0,
      "outputs": [
        {
          "output_type": "display_data",
          "data": {
            "image/png": "[encoded data removed]",
            "text/plain": [
              "<Figure size 432x288 with 1 Axes>"
            ]
          },
          "metadata": {
            "tags": []
          }
        },
        {
          "output_type": "display_data",
          "data": {
            "image/png": "[encoded data removed]",
            "text/plain": [
              "<Figure size 432x288 with 1 Axes>"
            ]
          },
          "metadata": {
            "tags": []
          }
        }
      ]
    },
    {
      "cell_type": "code",
      "metadata": {
        "id": "CZAV1lj3hCDz",
        "colab_type": "code",
        "colab": {}
      },
      "source": [
        "model.save('irismodel.h5')"
      ],
      "execution_count": 0,
      "outputs": []
    },
    {
      "cell_type": "code",
      "metadata": {
        "id": "WP8HD3yZwrpc",
        "colab_type": "code",
        "colab": {}
      },
      "source": [
        "from keras import Sequential\n",
        "def grad_cam(input_model, image, category_index, layer_name):\n",
        "    model = Sequential()\n",
        "    model.add(input_model)\n",
        "\n",
        "    nb_classes = 1000\n",
        "    target_layer = lambda x: target_category_loss(x, category_index, nb_classes)\n",
        "    model.add(Lambda(target_layer,\n",
        "                     output_shape = target_category_loss_output_shape))\n",
        "\n",
        "    loss = K.sum(model.layers[-1].output)\n",
        "    conv_output =  [l for l in model.layers[0].layers if l.name is layer_name][0].output\n",
        "    grads = normalize(K.gradients(loss, conv_output)[0])\n",
        "    gradient_function = K.function([model.layers[0].input], [conv_output, grads])\n",
        "\n",
        "    output, grads_val = gradient_function([image])\n",
        "    output, grads_val = output[0, :], grads_val[0, :, :, :]\n",
        "\n",
        "    weights = np.mean(grads_val, axis = (0, 1))\n",
        "    cam = np.ones(output.shape[0 : 2], dtype = np.float32)\n",
        "\n",
        "    for i, w in enumerate(weights):\n",
        "        cam += w * output[:, :, i]\n",
        "\n",
        "    cam = cv2.resize(cam, (224, 224))\n",
        "    cam = np.maximum(cam, 0)\n",
        "    heatmap = cam / np.max(cam)\n",
        "\n",
        "    #Return to BGR [0..255] from the preprocessed image\n",
        "    image = image[0, :]\n",
        "    image -= np.min(image)\n",
        "    image = np.minimum(image, 255)\n",
        "\n",
        "    cam = cv2.applyColorMap(np.uint8(255*heatmap), cv2.COLORMAP_JET)\n",
        "    cam = np.float32(cam) + np.float32(image)\n",
        "    cam = 255 * cam / np.max(cam)\n",
        "    return np.uint8(cam), heatmap"
      ],
      "execution_count": 0,
      "outputs": []
    },
    {
      "cell_type": "code",
      "metadata": {
        "id": "uN2e0enWxYJ5",
        "colab_type": "code",
        "outputId": "3733f2fe-9811-4e8c-9332-43fa24d6dcc7",
        "colab": {
          "base_uri": "https://localhost:8080/",
          "height": 34
        }
      },
      "source": [
        "os.listdir(\"/content/Iris-Recognition/MMU2_test/1/\")"
      ],
      "execution_count": 0,
      "outputs": [
        {
          "output_type": "execute_result",
          "data": {
            "text/plain": [
              "['010101.bmp', '010104.bmp', '010205.bmp', '010203.bmp']"
            ]
          },
          "metadata": {
            "tags": []
          },
          "execution_count": 45
        }
      ]
    },
    {
      "cell_type": "code",
      "metadata": {
        "id": "6PPL5tizwsvN",
        "colab_type": "code",
        "outputId": "3f3a40dd-73df-4227-ba5b-9ad21e07a529",
        "colab": {
          "base_uri": "https://localhost:8080/",
          "height": 119
        }
      },
      "source": [
        "import cv2\n",
        "import numpy as np\n",
        "testimage= cv2.imread(\"/content/Iris-Recognition/MMU2_test/1/010101.bmp\")\n",
        "testimage= cv2.resize(testimage, (150, 150))\n",
        "predictions = model.predict(np.expand_dims(testimage, axis= 0))\n",
        "# top_1 = decode_predictions(predictions)[0][0]\n",
        "# print('Predicted class:')\n",
        "# print('%s (%s) with probability %.2f' % (top_1[1], top_1[0], top_1[2]))\n",
        "print(predictions)\n",
        "subjects[np.argmax(predictions)]\n",
        "# predicted_class = np.argmax(predictions)\n",
        "# cam, heatmap = grad_cam(model, testimage, predicted_class, \"conv2d_64\")\n",
        "# cv2.imwrite(\"gradcam.jpg\", cam)\n",
        "\n",
        "# register_gradient()\n",
        "# guided_model = modify_backprop(model, 'GuidedBackProp')\n",
        "# saliency_fn = compile_saliency_function(guided_model)\n",
        "# saliency = saliency_fn([preprocessed_input, 0])\n",
        "# gradcam = saliency[0] * heatmap[..., np.newaxis]\n",
        "# cv2.imwrite(\"guided_gradcam.jpg\", deprocess_image(gradcam))"
      ],
      "execution_count": 0,
      "outputs": [
        {
          "output_type": "stream",
          "text": [
            "[[0. 0. 0. 0. 0. 0. 0. 0. 0. 0. 0. 0. 0. 0. 0. 0. 0. 0. 0. 0. 0. 0. 0. 0.\n",
            "  0. 0. 0. 0. 0. 1. 0. 0. 0. 0. 0. 0. 0. 0. 0. 0. 0. 0. 0. 0. 0. 0. 0. 0.\n",
            "  0. 0. 0. 0. 0. 0. 0. 0. 0. 0. 0. 0. 0. 0. 0. 0. 0. 0. 0. 0. 0. 0. 0. 0.\n",
            "  0. 0. 0. 0. 0. 0. 0. 0. 0. 0. 0. 0. 0. 0. 0. 0. 0. 0. 0. 0. 0. 0. 0. 0.\n",
            "  0. 0. 0. 0.]]\n"
          ],
          "name": "stdout"
        },
        {
          "output_type": "execute_result",
          "data": {
            "text/plain": [
              "'8'"
            ]
          },
          "metadata": {
            "tags": []
          },
          "execution_count": 63
        }
      ]
    },
    {
      "cell_type": "code",
      "metadata": {
        "id": "eEuBCGBl04AW",
        "colab_type": "code",
        "outputId": "0e100570-e298-4375-fade-cfc30febec25",
        "colab": {
          "base_uri": "https://localhost:8080/",
          "height": 34
        }
      },
      "source": [
        "testimage= cv2.imread(\"/content/Iris-Recognition/MMU2_test/1/010203.bmp\")\n",
        "testimage= cv2.resize(testimage, (150, 150))\n",
        "a= np.expand_dims(testimage, axis= 0)\n",
        "a.shape"
      ],
      "execution_count": 0,
      "outputs": [
        {
          "output_type": "execute_result",
          "data": {
            "text/plain": [
              "(1, 150, 150, 3)"
            ]
          },
          "metadata": {
            "tags": []
          },
          "execution_count": 40
        }
      ]
    },
    {
      "cell_type": "code",
      "metadata": {
        "id": "Ej5KsOhm1xdm",
        "colab_type": "code",
        "outputId": "adcc5fca-ead5-41b8-b76d-9ebbcf311616",
        "colab": {
          "base_uri": "https://localhost:8080/",
          "height": 34
        }
      },
      "source": [
        ""
      ],
      "execution_count": 0,
      "outputs": [
        {
          "output_type": "execute_result",
          "data": {
            "text/plain": [
              "(1, 238, 320, 3)"
            ]
          },
          "metadata": {
            "tags": []
          },
          "execution_count": 37
        }
      ]
    },
    {
      "cell_type": "code",
      "metadata": {
        "id": "Ci28J2go10A2",
        "colab_type": "code",
        "outputId": "8807be8b-2728-4c13-ee94-5afd5627c196",
        "colab": {
          "base_uri": "https://localhost:8080/",
          "height": 1000
        }
      },
      "source": [
        "conv_base.summary()"
      ],
      "execution_count": 0,
      "outputs": [
        {
          "output_type": "stream",
          "text": [
            "Model: \"efficientnet-b0\"\n",
            "__________________________________________________________________________________________________\n",
            "Layer (type)                    Output Shape         Param #     Connected to                     \n",
            "==================================================================================================\n",
            "input_1 (InputLayer)            [(None, 150, 150, 3) 0                                            \n",
            "__________________________________________________________________________________________________\n",
            "conv2d (Conv2D)                 (None, 75, 75, 32)   864         input_1[0][0]                    \n",
            "__________________________________________________________________________________________________\n",
            "batch_normalization (BatchNorma (None, 75, 75, 32)   128         conv2d[0][0]                     \n",
            "__________________________________________________________________________________________________\n",
            "swish (Swish)                   (None, 75, 75, 32)   0           batch_normalization[0][0]        \n",
            "__________________________________________________________________________________________________\n",
            "depthwise_conv2d (DepthwiseConv (None, 75, 75, 32)   288         swish[0][0]                      \n",
            "__________________________________________________________________________________________________\n",
            "batch_normalization_1 (BatchNor (None, 75, 75, 32)   128         depthwise_conv2d[0][0]           \n",
            "__________________________________________________________________________________________________\n",
            "swish_1 (Swish)                 (None, 75, 75, 32)   0           batch_normalization_1[0][0]      \n",
            "__________________________________________________________________________________________________\n",
            "lambda (Lambda)                 (None, 1, 1, 32)     0           swish_1[0][0]                    \n",
            "__________________________________________________________________________________________________\n",
            "conv2d_1 (Conv2D)               (None, 1, 1, 8)      264         lambda[0][0]                     \n",
            "__________________________________________________________________________________________________\n",
            "swish_2 (Swish)                 (None, 1, 1, 8)      0           conv2d_1[0][0]                   \n",
            "__________________________________________________________________________________________________\n",
            "conv2d_2 (Conv2D)               (None, 1, 1, 32)     288         swish_2[0][0]                    \n",
            "__________________________________________________________________________________________________\n",
            "activation (Activation)         (None, 1, 1, 32)     0           conv2d_2[0][0]                   \n",
            "__________________________________________________________________________________________________\n",
            "multiply (Multiply)             (None, 75, 75, 32)   0           activation[0][0]                 \n",
            "                                                                 swish_1[0][0]                    \n",
            "__________________________________________________________________________________________________\n",
            "conv2d_3 (Conv2D)               (None, 75, 75, 16)   512         multiply[0][0]                   \n",
            "__________________________________________________________________________________________________\n",
            "batch_normalization_2 (BatchNor (None, 75, 75, 16)   64          conv2d_3[0][0]                   \n",
            "__________________________________________________________________________________________________\n",
            "conv2d_4 (Conv2D)               (None, 75, 75, 96)   1536        batch_normalization_2[0][0]      \n",
            "__________________________________________________________________________________________________\n",
            "batch_normalization_3 (BatchNor (None, 75, 75, 96)   384         conv2d_4[0][0]                   \n",
            "__________________________________________________________________________________________________\n",
            "swish_3 (Swish)                 (None, 75, 75, 96)   0           batch_normalization_3[0][0]      \n",
            "__________________________________________________________________________________________________\n",
            "depthwise_conv2d_1 (DepthwiseCo (None, 38, 38, 96)   864         swish_3[0][0]                    \n",
            "__________________________________________________________________________________________________\n",
            "batch_normalization_4 (BatchNor (None, 38, 38, 96)   384         depthwise_conv2d_1[0][0]         \n",
            "__________________________________________________________________________________________________\n",
            "swish_4 (Swish)                 (None, 38, 38, 96)   0           batch_normalization_4[0][0]      \n",
            "__________________________________________________________________________________________________\n",
            "lambda_1 (Lambda)               (None, 1, 1, 96)     0           swish_4[0][0]                    \n",
            "__________________________________________________________________________________________________\n",
            "conv2d_5 (Conv2D)               (None, 1, 1, 4)      388         lambda_1[0][0]                   \n",
            "__________________________________________________________________________________________________\n",
            "swish_5 (Swish)                 (None, 1, 1, 4)      0           conv2d_5[0][0]                   \n",
            "__________________________________________________________________________________________________\n",
            "conv2d_6 (Conv2D)               (None, 1, 1, 96)     480         swish_5[0][0]                    \n",
            "__________________________________________________________________________________________________\n",
            "activation_1 (Activation)       (None, 1, 1, 96)     0           conv2d_6[0][0]                   \n",
            "__________________________________________________________________________________________________\n",
            "multiply_1 (Multiply)           (None, 38, 38, 96)   0           activation_1[0][0]               \n",
            "                                                                 swish_4[0][0]                    \n",
            "__________________________________________________________________________________________________\n",
            "conv2d_7 (Conv2D)               (None, 38, 38, 24)   2304        multiply_1[0][0]                 \n",
            "__________________________________________________________________________________________________\n",
            "batch_normalization_5 (BatchNor (None, 38, 38, 24)   96          conv2d_7[0][0]                   \n",
            "__________________________________________________________________________________________________\n",
            "conv2d_8 (Conv2D)               (None, 38, 38, 144)  3456        batch_normalization_5[0][0]      \n",
            "__________________________________________________________________________________________________\n",
            "batch_normalization_6 (BatchNor (None, 38, 38, 144)  576         conv2d_8[0][0]                   \n",
            "__________________________________________________________________________________________________\n",
            "swish_6 (Swish)                 (None, 38, 38, 144)  0           batch_normalization_6[0][0]      \n",
            "__________________________________________________________________________________________________\n",
            "depthwise_conv2d_2 (DepthwiseCo (None, 38, 38, 144)  1296        swish_6[0][0]                    \n",
            "__________________________________________________________________________________________________\n",
            "batch_normalization_7 (BatchNor (None, 38, 38, 144)  576         depthwise_conv2d_2[0][0]         \n",
            "__________________________________________________________________________________________________\n",
            "swish_7 (Swish)                 (None, 38, 38, 144)  0           batch_normalization_7[0][0]      \n",
            "__________________________________________________________________________________________________\n",
            "lambda_2 (Lambda)               (None, 1, 1, 144)    0           swish_7[0][0]                    \n",
            "__________________________________________________________________________________________________\n",
            "conv2d_9 (Conv2D)               (None, 1, 1, 6)      870         lambda_2[0][0]                   \n",
            "__________________________________________________________________________________________________\n",
            "swish_8 (Swish)                 (None, 1, 1, 6)      0           conv2d_9[0][0]                   \n",
            "__________________________________________________________________________________________________\n",
            "conv2d_10 (Conv2D)              (None, 1, 1, 144)    1008        swish_8[0][0]                    \n",
            "__________________________________________________________________________________________________\n",
            "activation_2 (Activation)       (None, 1, 1, 144)    0           conv2d_10[0][0]                  \n",
            "__________________________________________________________________________________________________\n",
            "multiply_2 (Multiply)           (None, 38, 38, 144)  0           activation_2[0][0]               \n",
            "                                                                 swish_7[0][0]                    \n",
            "__________________________________________________________________________________________________\n",
            "conv2d_11 (Conv2D)              (None, 38, 38, 24)   3456        multiply_2[0][0]                 \n",
            "__________________________________________________________________________________________________\n",
            "batch_normalization_8 (BatchNor (None, 38, 38, 24)   96          conv2d_11[0][0]                  \n",
            "__________________________________________________________________________________________________\n",
            "drop_connect (DropConnect)      (None, 38, 38, 24)   0           batch_normalization_8[0][0]      \n",
            "__________________________________________________________________________________________________\n",
            "add (Add)                       (None, 38, 38, 24)   0           drop_connect[0][0]               \n",
            "                                                                 batch_normalization_5[0][0]      \n",
            "__________________________________________________________________________________________________\n",
            "conv2d_12 (Conv2D)              (None, 38, 38, 144)  3456        add[0][0]                        \n",
            "__________________________________________________________________________________________________\n",
            "batch_normalization_9 (BatchNor (None, 38, 38, 144)  576         conv2d_12[0][0]                  \n",
            "__________________________________________________________________________________________________\n",
            "swish_9 (Swish)                 (None, 38, 38, 144)  0           batch_normalization_9[0][0]      \n",
            "__________________________________________________________________________________________________\n",
            "depthwise_conv2d_3 (DepthwiseCo (None, 19, 19, 144)  3600        swish_9[0][0]                    \n",
            "__________________________________________________________________________________________________\n",
            "batch_normalization_10 (BatchNo (None, 19, 19, 144)  576         depthwise_conv2d_3[0][0]         \n",
            "__________________________________________________________________________________________________\n",
            "swish_10 (Swish)                (None, 19, 19, 144)  0           batch_normalization_10[0][0]     \n",
            "__________________________________________________________________________________________________\n",
            "lambda_3 (Lambda)               (None, 1, 1, 144)    0           swish_10[0][0]                   \n",
            "__________________________________________________________________________________________________\n",
            "conv2d_13 (Conv2D)              (None, 1, 1, 6)      870         lambda_3[0][0]                   \n",
            "__________________________________________________________________________________________________\n",
            "swish_11 (Swish)                (None, 1, 1, 6)      0           conv2d_13[0][0]                  \n",
            "__________________________________________________________________________________________________\n",
            "conv2d_14 (Conv2D)              (None, 1, 1, 144)    1008        swish_11[0][0]                   \n",
            "__________________________________________________________________________________________________\n",
            "activation_3 (Activation)       (None, 1, 1, 144)    0           conv2d_14[0][0]                  \n",
            "__________________________________________________________________________________________________\n",
            "multiply_3 (Multiply)           (None, 19, 19, 144)  0           activation_3[0][0]               \n",
            "                                                                 swish_10[0][0]                   \n",
            "__________________________________________________________________________________________________\n",
            "conv2d_15 (Conv2D)              (None, 19, 19, 40)   5760        multiply_3[0][0]                 \n",
            "__________________________________________________________________________________________________\n",
            "batch_normalization_11 (BatchNo (None, 19, 19, 40)   160         conv2d_15[0][0]                  \n",
            "__________________________________________________________________________________________________\n",
            "conv2d_16 (Conv2D)              (None, 19, 19, 240)  9600        batch_normalization_11[0][0]     \n",
            "__________________________________________________________________________________________________\n",
            "batch_normalization_12 (BatchNo (None, 19, 19, 240)  960         conv2d_16[0][0]                  \n",
            "__________________________________________________________________________________________________\n",
            "swish_12 (Swish)                (None, 19, 19, 240)  0           batch_normalization_12[0][0]     \n",
            "__________________________________________________________________________________________________\n",
            "depthwise_conv2d_4 (DepthwiseCo (None, 19, 19, 240)  6000        swish_12[0][0]                   \n",
            "__________________________________________________________________________________________________\n",
            "batch_normalization_13 (BatchNo (None, 19, 19, 240)  960         depthwise_conv2d_4[0][0]         \n",
            "__________________________________________________________________________________________________\n",
            "swish_13 (Swish)                (None, 19, 19, 240)  0           batch_normalization_13[0][0]     \n",
            "__________________________________________________________________________________________________\n",
            "lambda_4 (Lambda)               (None, 1, 1, 240)    0           swish_13[0][0]                   \n",
            "__________________________________________________________________________________________________\n",
            "conv2d_17 (Conv2D)              (None, 1, 1, 10)     2410        lambda_4[0][0]                   \n",
            "__________________________________________________________________________________________________\n",
            "swish_14 (Swish)                (None, 1, 1, 10)     0           conv2d_17[0][0]                  \n",
            "__________________________________________________________________________________________________\n",
            "conv2d_18 (Conv2D)              (None, 1, 1, 240)    2640        swish_14[0][0]                   \n",
            "__________________________________________________________________________________________________\n",
            "activation_4 (Activation)       (None, 1, 1, 240)    0           conv2d_18[0][0]                  \n",
            "__________________________________________________________________________________________________\n",
            "multiply_4 (Multiply)           (None, 19, 19, 240)  0           activation_4[0][0]               \n",
            "                                                                 swish_13[0][0]                   \n",
            "__________________________________________________________________________________________________\n",
            "conv2d_19 (Conv2D)              (None, 19, 19, 40)   9600        multiply_4[0][0]                 \n",
            "__________________________________________________________________________________________________\n",
            "batch_normalization_14 (BatchNo (None, 19, 19, 40)   160         conv2d_19[0][0]                  \n",
            "__________________________________________________________________________________________________\n",
            "drop_connect_1 (DropConnect)    (None, 19, 19, 40)   0           batch_normalization_14[0][0]     \n",
            "__________________________________________________________________________________________________\n",
            "add_1 (Add)                     (None, 19, 19, 40)   0           drop_connect_1[0][0]             \n",
            "                                                                 batch_normalization_11[0][0]     \n",
            "__________________________________________________________________________________________________\n",
            "conv2d_20 (Conv2D)              (None, 19, 19, 240)  9600        add_1[0][0]                      \n",
            "__________________________________________________________________________________________________\n",
            "batch_normalization_15 (BatchNo (None, 19, 19, 240)  960         conv2d_20[0][0]                  \n",
            "__________________________________________________________________________________________________\n",
            "swish_15 (Swish)                (None, 19, 19, 240)  0           batch_normalization_15[0][0]     \n",
            "__________________________________________________________________________________________________\n",
            "depthwise_conv2d_5 (DepthwiseCo (None, 10, 10, 240)  2160        swish_15[0][0]                   \n",
            "__________________________________________________________________________________________________\n",
            "batch_normalization_16 (BatchNo (None, 10, 10, 240)  960         depthwise_conv2d_5[0][0]         \n",
            "__________________________________________________________________________________________________\n",
            "swish_16 (Swish)                (None, 10, 10, 240)  0           batch_normalization_16[0][0]     \n",
            "__________________________________________________________________________________________________\n",
            "lambda_5 (Lambda)               (None, 1, 1, 240)    0           swish_16[0][0]                   \n",
            "__________________________________________________________________________________________________\n",
            "conv2d_21 (Conv2D)              (None, 1, 1, 10)     2410        lambda_5[0][0]                   \n",
            "__________________________________________________________________________________________________\n",
            "swish_17 (Swish)                (None, 1, 1, 10)     0           conv2d_21[0][0]                  \n",
            "__________________________________________________________________________________________________\n",
            "conv2d_22 (Conv2D)              (None, 1, 1, 240)    2640        swish_17[0][0]                   \n",
            "__________________________________________________________________________________________________\n",
            "activation_5 (Activation)       (None, 1, 1, 240)    0           conv2d_22[0][0]                  \n",
            "__________________________________________________________________________________________________\n",
            "multiply_5 (Multiply)           (None, 10, 10, 240)  0           activation_5[0][0]               \n",
            "                                                                 swish_16[0][0]                   \n",
            "__________________________________________________________________________________________________\n",
            "conv2d_23 (Conv2D)              (None, 10, 10, 80)   19200       multiply_5[0][0]                 \n",
            "__________________________________________________________________________________________________\n",
            "batch_normalization_17 (BatchNo (None, 10, 10, 80)   320         conv2d_23[0][0]                  \n",
            "__________________________________________________________________________________________________\n",
            "conv2d_24 (Conv2D)              (None, 10, 10, 480)  38400       batch_normalization_17[0][0]     \n",
            "__________________________________________________________________________________________________\n",
            "batch_normalization_18 (BatchNo (None, 10, 10, 480)  1920        conv2d_24[0][0]                  \n",
            "__________________________________________________________________________________________________\n",
            "swish_18 (Swish)                (None, 10, 10, 480)  0           batch_normalization_18[0][0]     \n",
            "__________________________________________________________________________________________________\n",
            "depthwise_conv2d_6 (DepthwiseCo (None, 10, 10, 480)  4320        swish_18[0][0]                   \n",
            "__________________________________________________________________________________________________\n",
            "batch_normalization_19 (BatchNo (None, 10, 10, 480)  1920        depthwise_conv2d_6[0][0]         \n",
            "__________________________________________________________________________________________________\n",
            "swish_19 (Swish)                (None, 10, 10, 480)  0           batch_normalization_19[0][0]     \n",
            "__________________________________________________________________________________________________\n",
            "lambda_6 (Lambda)               (None, 1, 1, 480)    0           swish_19[0][0]                   \n",
            "__________________________________________________________________________________________________\n",
            "conv2d_25 (Conv2D)              (None, 1, 1, 20)     9620        lambda_6[0][0]                   \n",
            "__________________________________________________________________________________________________\n",
            "swish_20 (Swish)                (None, 1, 1, 20)     0           conv2d_25[0][0]                  \n",
            "__________________________________________________________________________________________________\n",
            "conv2d_26 (Conv2D)              (None, 1, 1, 480)    10080       swish_20[0][0]                   \n",
            "__________________________________________________________________________________________________\n",
            "activation_6 (Activation)       (None, 1, 1, 480)    0           conv2d_26[0][0]                  \n",
            "__________________________________________________________________________________________________\n",
            "multiply_6 (Multiply)           (None, 10, 10, 480)  0           activation_6[0][0]               \n",
            "                                                                 swish_19[0][0]                   \n",
            "__________________________________________________________________________________________________\n",
            "conv2d_27 (Conv2D)              (None, 10, 10, 80)   38400       multiply_6[0][0]                 \n",
            "__________________________________________________________________________________________________\n",
            "batch_normalization_20 (BatchNo (None, 10, 10, 80)   320         conv2d_27[0][0]                  \n",
            "__________________________________________________________________________________________________\n",
            "drop_connect_2 (DropConnect)    (None, 10, 10, 80)   0           batch_normalization_20[0][0]     \n",
            "__________________________________________________________________________________________________\n",
            "add_2 (Add)                     (None, 10, 10, 80)   0           drop_connect_2[0][0]             \n",
            "                                                                 batch_normalization_17[0][0]     \n",
            "__________________________________________________________________________________________________\n",
            "conv2d_28 (Conv2D)              (None, 10, 10, 480)  38400       add_2[0][0]                      \n",
            "__________________________________________________________________________________________________\n",
            "batch_normalization_21 (BatchNo (None, 10, 10, 480)  1920        conv2d_28[0][0]                  \n",
            "__________________________________________________________________________________________________\n",
            "swish_21 (Swish)                (None, 10, 10, 480)  0           batch_normalization_21[0][0]     \n",
            "__________________________________________________________________________________________________\n",
            "depthwise_conv2d_7 (DepthwiseCo (None, 10, 10, 480)  4320        swish_21[0][0]                   \n",
            "__________________________________________________________________________________________________\n",
            "batch_normalization_22 (BatchNo (None, 10, 10, 480)  1920        depthwise_conv2d_7[0][0]         \n",
            "__________________________________________________________________________________________________\n",
            "swish_22 (Swish)                (None, 10, 10, 480)  0           batch_normalization_22[0][0]     \n",
            "__________________________________________________________________________________________________\n",
            "lambda_7 (Lambda)               (None, 1, 1, 480)    0           swish_22[0][0]                   \n",
            "__________________________________________________________________________________________________\n",
            "conv2d_29 (Conv2D)              (None, 1, 1, 20)     9620        lambda_7[0][0]                   \n",
            "__________________________________________________________________________________________________\n",
            "swish_23 (Swish)                (None, 1, 1, 20)     0           conv2d_29[0][0]                  \n",
            "__________________________________________________________________________________________________\n",
            "conv2d_30 (Conv2D)              (None, 1, 1, 480)    10080       swish_23[0][0]                   \n",
            "__________________________________________________________________________________________________\n",
            "activation_7 (Activation)       (None, 1, 1, 480)    0           conv2d_30[0][0]                  \n",
            "__________________________________________________________________________________________________\n",
            "multiply_7 (Multiply)           (None, 10, 10, 480)  0           activation_7[0][0]               \n",
            "                                                                 swish_22[0][0]                   \n",
            "__________________________________________________________________________________________________\n",
            "conv2d_31 (Conv2D)              (None, 10, 10, 80)   38400       multiply_7[0][0]                 \n",
            "__________________________________________________________________________________________________\n",
            "batch_normalization_23 (BatchNo (None, 10, 10, 80)   320         conv2d_31[0][0]                  \n",
            "__________________________________________________________________________________________________\n",
            "drop_connect_3 (DropConnect)    (None, 10, 10, 80)   0           batch_normalization_23[0][0]     \n",
            "__________________________________________________________________________________________________\n",
            "add_3 (Add)                     (None, 10, 10, 80)   0           drop_connect_3[0][0]             \n",
            "                                                                 add_2[0][0]                      \n",
            "__________________________________________________________________________________________________\n",
            "conv2d_32 (Conv2D)              (None, 10, 10, 480)  38400       add_3[0][0]                      \n",
            "__________________________________________________________________________________________________\n",
            "batch_normalization_24 (BatchNo (None, 10, 10, 480)  1920        conv2d_32[0][0]                  \n",
            "__________________________________________________________________________________________________\n",
            "swish_24 (Swish)                (None, 10, 10, 480)  0           batch_normalization_24[0][0]     \n",
            "__________________________________________________________________________________________________\n",
            "depthwise_conv2d_8 (DepthwiseCo (None, 10, 10, 480)  12000       swish_24[0][0]                   \n",
            "__________________________________________________________________________________________________\n",
            "batch_normalization_25 (BatchNo (None, 10, 10, 480)  1920        depthwise_conv2d_8[0][0]         \n",
            "__________________________________________________________________________________________________\n",
            "swish_25 (Swish)                (None, 10, 10, 480)  0           batch_normalization_25[0][0]     \n",
            "__________________________________________________________________________________________________\n",
            "lambda_8 (Lambda)               (None, 1, 1, 480)    0           swish_25[0][0]                   \n",
            "__________________________________________________________________________________________________\n",
            "conv2d_33 (Conv2D)              (None, 1, 1, 20)     9620        lambda_8[0][0]                   \n",
            "__________________________________________________________________________________________________\n",
            "swish_26 (Swish)                (None, 1, 1, 20)     0           conv2d_33[0][0]                  \n",
            "__________________________________________________________________________________________________\n",
            "conv2d_34 (Conv2D)              (None, 1, 1, 480)    10080       swish_26[0][0]                   \n",
            "__________________________________________________________________________________________________\n",
            "activation_8 (Activation)       (None, 1, 1, 480)    0           conv2d_34[0][0]                  \n",
            "__________________________________________________________________________________________________\n",
            "multiply_8 (Multiply)           (None, 10, 10, 480)  0           activation_8[0][0]               \n",
            "                                                                 swish_25[0][0]                   \n",
            "__________________________________________________________________________________________________\n",
            "conv2d_35 (Conv2D)              (None, 10, 10, 112)  53760       multiply_8[0][0]                 \n",
            "__________________________________________________________________________________________________\n",
            "batch_normalization_26 (BatchNo (None, 10, 10, 112)  448         conv2d_35[0][0]                  \n",
            "__________________________________________________________________________________________________\n",
            "conv2d_36 (Conv2D)              (None, 10, 10, 672)  75264       batch_normalization_26[0][0]     \n",
            "__________________________________________________________________________________________________\n",
            "batch_normalization_27 (BatchNo (None, 10, 10, 672)  2688        conv2d_36[0][0]                  \n",
            "__________________________________________________________________________________________________\n",
            "swish_27 (Swish)                (None, 10, 10, 672)  0           batch_normalization_27[0][0]     \n",
            "__________________________________________________________________________________________________\n",
            "depthwise_conv2d_9 (DepthwiseCo (None, 10, 10, 672)  16800       swish_27[0][0]                   \n",
            "__________________________________________________________________________________________________\n",
            "batch_normalization_28 (BatchNo (None, 10, 10, 672)  2688        depthwise_conv2d_9[0][0]         \n",
            "__________________________________________________________________________________________________\n",
            "swish_28 (Swish)                (None, 10, 10, 672)  0           batch_normalization_28[0][0]     \n",
            "__________________________________________________________________________________________________\n",
            "lambda_9 (Lambda)               (None, 1, 1, 672)    0           swish_28[0][0]                   \n",
            "__________________________________________________________________________________________________\n",
            "conv2d_37 (Conv2D)              (None, 1, 1, 28)     18844       lambda_9[0][0]                   \n",
            "__________________________________________________________________________________________________\n",
            "swish_29 (Swish)                (None, 1, 1, 28)     0           conv2d_37[0][0]                  \n",
            "__________________________________________________________________________________________________\n",
            "conv2d_38 (Conv2D)              (None, 1, 1, 672)    19488       swish_29[0][0]                   \n",
            "__________________________________________________________________________________________________\n",
            "activation_9 (Activation)       (None, 1, 1, 672)    0           conv2d_38[0][0]                  \n",
            "__________________________________________________________________________________________________\n",
            "multiply_9 (Multiply)           (None, 10, 10, 672)  0           activation_9[0][0]               \n",
            "                                                                 swish_28[0][0]                   \n",
            "__________________________________________________________________________________________________\n",
            "conv2d_39 (Conv2D)              (None, 10, 10, 112)  75264       multiply_9[0][0]                 \n",
            "__________________________________________________________________________________________________\n",
            "batch_normalization_29 (BatchNo (None, 10, 10, 112)  448         conv2d_39[0][0]                  \n",
            "__________________________________________________________________________________________________\n",
            "drop_connect_4 (DropConnect)    (None, 10, 10, 112)  0           batch_normalization_29[0][0]     \n",
            "__________________________________________________________________________________________________\n",
            "add_4 (Add)                     (None, 10, 10, 112)  0           drop_connect_4[0][0]             \n",
            "                                                                 batch_normalization_26[0][0]     \n",
            "__________________________________________________________________________________________________\n",
            "conv2d_40 (Conv2D)              (None, 10, 10, 672)  75264       add_4[0][0]                      \n",
            "__________________________________________________________________________________________________\n",
            "batch_normalization_30 (BatchNo (None, 10, 10, 672)  2688        conv2d_40[0][0]                  \n",
            "__________________________________________________________________________________________________\n",
            "swish_30 (Swish)                (None, 10, 10, 672)  0           batch_normalization_30[0][0]     \n",
            "__________________________________________________________________________________________________\n",
            "depthwise_conv2d_10 (DepthwiseC (None, 10, 10, 672)  16800       swish_30[0][0]                   \n",
            "__________________________________________________________________________________________________\n",
            "batch_normalization_31 (BatchNo (None, 10, 10, 672)  2688        depthwise_conv2d_10[0][0]        \n",
            "__________________________________________________________________________________________________\n",
            "swish_31 (Swish)                (None, 10, 10, 672)  0           batch_normalization_31[0][0]     \n",
            "__________________________________________________________________________________________________\n",
            "lambda_10 (Lambda)              (None, 1, 1, 672)    0           swish_31[0][0]                   \n",
            "__________________________________________________________________________________________________\n",
            "conv2d_41 (Conv2D)              (None, 1, 1, 28)     18844       lambda_10[0][0]                  \n",
            "__________________________________________________________________________________________________\n",
            "swish_32 (Swish)                (None, 1, 1, 28)     0           conv2d_41[0][0]                  \n",
            "__________________________________________________________________________________________________\n",
            "conv2d_42 (Conv2D)              (None, 1, 1, 672)    19488       swish_32[0][0]                   \n",
            "__________________________________________________________________________________________________\n",
            "activation_10 (Activation)      (None, 1, 1, 672)    0           conv2d_42[0][0]                  \n",
            "__________________________________________________________________________________________________\n",
            "multiply_10 (Multiply)          (None, 10, 10, 672)  0           activation_10[0][0]              \n",
            "                                                                 swish_31[0][0]                   \n",
            "__________________________________________________________________________________________________\n",
            "conv2d_43 (Conv2D)              (None, 10, 10, 112)  75264       multiply_10[0][0]                \n",
            "__________________________________________________________________________________________________\n",
            "batch_normalization_32 (BatchNo (None, 10, 10, 112)  448         conv2d_43[0][0]                  \n",
            "__________________________________________________________________________________________________\n",
            "drop_connect_5 (DropConnect)    (None, 10, 10, 112)  0           batch_normalization_32[0][0]     \n",
            "__________________________________________________________________________________________________\n",
            "add_5 (Add)                     (None, 10, 10, 112)  0           drop_connect_5[0][0]             \n",
            "                                                                 add_4[0][0]                      \n",
            "__________________________________________________________________________________________________\n",
            "conv2d_44 (Conv2D)              (None, 10, 10, 672)  75264       add_5[0][0]                      \n",
            "__________________________________________________________________________________________________\n",
            "batch_normalization_33 (BatchNo (None, 10, 10, 672)  2688        conv2d_44[0][0]                  \n",
            "__________________________________________________________________________________________________\n",
            "swish_33 (Swish)                (None, 10, 10, 672)  0           batch_normalization_33[0][0]     \n",
            "__________________________________________________________________________________________________\n",
            "depthwise_conv2d_11 (DepthwiseC (None, 5, 5, 672)    16800       swish_33[0][0]                   \n",
            "__________________________________________________________________________________________________\n",
            "batch_normalization_34 (BatchNo (None, 5, 5, 672)    2688        depthwise_conv2d_11[0][0]        \n",
            "__________________________________________________________________________________________________\n",
            "swish_34 (Swish)                (None, 5, 5, 672)    0           batch_normalization_34[0][0]     \n",
            "__________________________________________________________________________________________________\n",
            "lambda_11 (Lambda)              (None, 1, 1, 672)    0           swish_34[0][0]                   \n",
            "__________________________________________________________________________________________________\n",
            "conv2d_45 (Conv2D)              (None, 1, 1, 28)     18844       lambda_11[0][0]                  \n",
            "__________________________________________________________________________________________________\n",
            "swish_35 (Swish)                (None, 1, 1, 28)     0           conv2d_45[0][0]                  \n",
            "__________________________________________________________________________________________________\n",
            "conv2d_46 (Conv2D)              (None, 1, 1, 672)    19488       swish_35[0][0]                   \n",
            "__________________________________________________________________________________________________\n",
            "activation_11 (Activation)      (None, 1, 1, 672)    0           conv2d_46[0][0]                  \n",
            "__________________________________________________________________________________________________\n",
            "multiply_11 (Multiply)          (None, 5, 5, 672)    0           activation_11[0][0]              \n",
            "                                                                 swish_34[0][0]                   \n",
            "__________________________________________________________________________________________________\n",
            "conv2d_47 (Conv2D)              (None, 5, 5, 192)    129024      multiply_11[0][0]                \n",
            "__________________________________________________________________________________________________\n",
            "batch_normalization_35 (BatchNo (None, 5, 5, 192)    768         conv2d_47[0][0]                  \n",
            "__________________________________________________________________________________________________\n",
            "conv2d_48 (Conv2D)              (None, 5, 5, 1152)   221184      batch_normalization_35[0][0]     \n",
            "__________________________________________________________________________________________________\n",
            "batch_normalization_36 (BatchNo (None, 5, 5, 1152)   4608        conv2d_48[0][0]                  \n",
            "__________________________________________________________________________________________________\n",
            "swish_36 (Swish)                (None, 5, 5, 1152)   0           batch_normalization_36[0][0]     \n",
            "__________________________________________________________________________________________________\n",
            "depthwise_conv2d_12 (DepthwiseC (None, 5, 5, 1152)   28800       swish_36[0][0]                   \n",
            "__________________________________________________________________________________________________\n",
            "batch_normalization_37 (BatchNo (None, 5, 5, 1152)   4608        depthwise_conv2d_12[0][0]        \n",
            "__________________________________________________________________________________________________\n",
            "swish_37 (Swish)                (None, 5, 5, 1152)   0           batch_normalization_37[0][0]     \n",
            "__________________________________________________________________________________________________\n",
            "lambda_12 (Lambda)              (None, 1, 1, 1152)   0           swish_37[0][0]                   \n",
            "__________________________________________________________________________________________________\n",
            "conv2d_49 (Conv2D)              (None, 1, 1, 48)     55344       lambda_12[0][0]                  \n",
            "__________________________________________________________________________________________________\n",
            "swish_38 (Swish)                (None, 1, 1, 48)     0           conv2d_49[0][0]                  \n",
            "__________________________________________________________________________________________________\n",
            "conv2d_50 (Conv2D)              (None, 1, 1, 1152)   56448       swish_38[0][0]                   \n",
            "__________________________________________________________________________________________________\n",
            "activation_12 (Activation)      (None, 1, 1, 1152)   0           conv2d_50[0][0]                  \n",
            "__________________________________________________________________________________________________\n",
            "multiply_12 (Multiply)          (None, 5, 5, 1152)   0           activation_12[0][0]              \n",
            "                                                                 swish_37[0][0]                   \n",
            "__________________________________________________________________________________________________\n",
            "conv2d_51 (Conv2D)              (None, 5, 5, 192)    221184      multiply_12[0][0]                \n",
            "__________________________________________________________________________________________________\n",
            "batch_normalization_38 (BatchNo (None, 5, 5, 192)    768         conv2d_51[0][0]                  \n",
            "__________________________________________________________________________________________________\n",
            "drop_connect_6 (DropConnect)    (None, 5, 5, 192)    0           batch_normalization_38[0][0]     \n",
            "__________________________________________________________________________________________________\n",
            "add_6 (Add)                     (None, 5, 5, 192)    0           drop_connect_6[0][0]             \n",
            "                                                                 batch_normalization_35[0][0]     \n",
            "__________________________________________________________________________________________________\n",
            "conv2d_52 (Conv2D)              (None, 5, 5, 1152)   221184      add_6[0][0]                      \n",
            "__________________________________________________________________________________________________\n",
            "batch_normalization_39 (BatchNo (None, 5, 5, 1152)   4608        conv2d_52[0][0]                  \n",
            "__________________________________________________________________________________________________\n",
            "swish_39 (Swish)                (None, 5, 5, 1152)   0           batch_normalization_39[0][0]     \n",
            "__________________________________________________________________________________________________\n",
            "depthwise_conv2d_13 (DepthwiseC (None, 5, 5, 1152)   28800       swish_39[0][0]                   \n",
            "__________________________________________________________________________________________________\n",
            "batch_normalization_40 (BatchNo (None, 5, 5, 1152)   4608        depthwise_conv2d_13[0][0]        \n",
            "__________________________________________________________________________________________________\n",
            "swish_40 (Swish)                (None, 5, 5, 1152)   0           batch_normalization_40[0][0]     \n",
            "__________________________________________________________________________________________________\n",
            "lambda_13 (Lambda)              (None, 1, 1, 1152)   0           swish_40[0][0]                   \n",
            "__________________________________________________________________________________________________\n",
            "conv2d_53 (Conv2D)              (None, 1, 1, 48)     55344       lambda_13[0][0]                  \n",
            "__________________________________________________________________________________________________\n",
            "swish_41 (Swish)                (None, 1, 1, 48)     0           conv2d_53[0][0]                  \n",
            "__________________________________________________________________________________________________\n",
            "conv2d_54 (Conv2D)              (None, 1, 1, 1152)   56448       swish_41[0][0]                   \n",
            "__________________________________________________________________________________________________\n",
            "activation_13 (Activation)      (None, 1, 1, 1152)   0           conv2d_54[0][0]                  \n",
            "__________________________________________________________________________________________________\n",
            "multiply_13 (Multiply)          (None, 5, 5, 1152)   0           activation_13[0][0]              \n",
            "                                                                 swish_40[0][0]                   \n",
            "__________________________________________________________________________________________________\n",
            "conv2d_55 (Conv2D)              (None, 5, 5, 192)    221184      multiply_13[0][0]                \n",
            "__________________________________________________________________________________________________\n",
            "batch_normalization_41 (BatchNo (None, 5, 5, 192)    768         conv2d_55[0][0]                  \n",
            "__________________________________________________________________________________________________\n",
            "drop_connect_7 (DropConnect)    (None, 5, 5, 192)    0           batch_normalization_41[0][0]     \n",
            "__________________________________________________________________________________________________\n",
            "add_7 (Add)                     (None, 5, 5, 192)    0           drop_connect_7[0][0]             \n",
            "                                                                 add_6[0][0]                      \n",
            "__________________________________________________________________________________________________\n",
            "conv2d_56 (Conv2D)              (None, 5, 5, 1152)   221184      add_7[0][0]                      \n",
            "__________________________________________________________________________________________________\n",
            "batch_normalization_42 (BatchNo (None, 5, 5, 1152)   4608        conv2d_56[0][0]                  \n",
            "__________________________________________________________________________________________________\n",
            "swish_42 (Swish)                (None, 5, 5, 1152)   0           batch_normalization_42[0][0]     \n",
            "__________________________________________________________________________________________________\n",
            "depthwise_conv2d_14 (DepthwiseC (None, 5, 5, 1152)   28800       swish_42[0][0]                   \n",
            "__________________________________________________________________________________________________\n",
            "batch_normalization_43 (BatchNo (None, 5, 5, 1152)   4608        depthwise_conv2d_14[0][0]        \n",
            "__________________________________________________________________________________________________\n",
            "swish_43 (Swish)                (None, 5, 5, 1152)   0           batch_normalization_43[0][0]     \n",
            "__________________________________________________________________________________________________\n",
            "lambda_14 (Lambda)              (None, 1, 1, 1152)   0           swish_43[0][0]                   \n",
            "__________________________________________________________________________________________________\n",
            "conv2d_57 (Conv2D)              (None, 1, 1, 48)     55344       lambda_14[0][0]                  \n",
            "__________________________________________________________________________________________________\n",
            "swish_44 (Swish)                (None, 1, 1, 48)     0           conv2d_57[0][0]                  \n",
            "__________________________________________________________________________________________________\n",
            "conv2d_58 (Conv2D)              (None, 1, 1, 1152)   56448       swish_44[0][0]                   \n",
            "__________________________________________________________________________________________________\n",
            "activation_14 (Activation)      (None, 1, 1, 1152)   0           conv2d_58[0][0]                  \n",
            "__________________________________________________________________________________________________\n",
            "multiply_14 (Multiply)          (None, 5, 5, 1152)   0           activation_14[0][0]              \n",
            "                                                                 swish_43[0][0]                   \n",
            "__________________________________________________________________________________________________\n",
            "conv2d_59 (Conv2D)              (None, 5, 5, 192)    221184      multiply_14[0][0]                \n",
            "__________________________________________________________________________________________________\n",
            "batch_normalization_44 (BatchNo (None, 5, 5, 192)    768         conv2d_59[0][0]                  \n",
            "__________________________________________________________________________________________________\n",
            "drop_connect_8 (DropConnect)    (None, 5, 5, 192)    0           batch_normalization_44[0][0]     \n",
            "__________________________________________________________________________________________________\n",
            "add_8 (Add)                     (None, 5, 5, 192)    0           drop_connect_8[0][0]             \n",
            "                                                                 add_7[0][0]                      \n",
            "__________________________________________________________________________________________________\n",
            "conv2d_60 (Conv2D)              (None, 5, 5, 1152)   221184      add_8[0][0]                      \n",
            "__________________________________________________________________________________________________\n",
            "batch_normalization_45 (BatchNo (None, 5, 5, 1152)   4608        conv2d_60[0][0]                  \n",
            "__________________________________________________________________________________________________\n",
            "swish_45 (Swish)                (None, 5, 5, 1152)   0           batch_normalization_45[0][0]     \n",
            "__________________________________________________________________________________________________\n",
            "depthwise_conv2d_15 (DepthwiseC (None, 5, 5, 1152)   10368       swish_45[0][0]                   \n",
            "__________________________________________________________________________________________________\n",
            "batch_normalization_46 (BatchNo (None, 5, 5, 1152)   4608        depthwise_conv2d_15[0][0]        \n",
            "__________________________________________________________________________________________________\n",
            "swish_46 (Swish)                (None, 5, 5, 1152)   0           batch_normalization_46[0][0]     \n",
            "__________________________________________________________________________________________________\n",
            "lambda_15 (Lambda)              (None, 1, 1, 1152)   0           swish_46[0][0]                   \n",
            "__________________________________________________________________________________________________\n",
            "conv2d_61 (Conv2D)              (None, 1, 1, 48)     55344       lambda_15[0][0]                  \n",
            "__________________________________________________________________________________________________\n",
            "swish_47 (Swish)                (None, 1, 1, 48)     0           conv2d_61[0][0]                  \n",
            "__________________________________________________________________________________________________\n",
            "conv2d_62 (Conv2D)              (None, 1, 1, 1152)   56448       swish_47[0][0]                   \n",
            "__________________________________________________________________________________________________\n",
            "activation_15 (Activation)      (None, 1, 1, 1152)   0           conv2d_62[0][0]                  \n",
            "__________________________________________________________________________________________________\n",
            "multiply_15 (Multiply)          (None, 5, 5, 1152)   0           activation_15[0][0]              \n",
            "                                                                 swish_46[0][0]                   \n",
            "__________________________________________________________________________________________________\n",
            "conv2d_63 (Conv2D)              (None, 5, 5, 320)    368640      multiply_15[0][0]                \n",
            "__________________________________________________________________________________________________\n",
            "batch_normalization_47 (BatchNo (None, 5, 5, 320)    1280        conv2d_63[0][0]                  \n",
            "__________________________________________________________________________________________________\n",
            "conv2d_64 (Conv2D)              (None, 5, 5, 1280)   409600      batch_normalization_47[0][0]     \n",
            "__________________________________________________________________________________________________\n",
            "batch_normalization_48 (BatchNo (None, 5, 5, 1280)   5120        conv2d_64[0][0]                  \n",
            "__________________________________________________________________________________________________\n",
            "swish_48 (Swish)                (None, 5, 5, 1280)   0           batch_normalization_48[0][0]     \n",
            "==================================================================================================\n",
            "Total params: 4,049,564\n",
            "Trainable params: 4,007,548\n",
            "Non-trainable params: 42,016\n",
            "__________________________________________________________________________________________________\n"
          ],
          "name": "stdout"
        }
      ]
    },
    {
      "cell_type": "code",
      "metadata": {
        "id": "e8C333vx3xa3",
        "colab_type": "code",
        "outputId": "b3ee1650-7a01-4ff9-9c45-3de105b64030",
        "colab": {
          "base_uri": "https://localhost:8080/",
          "height": 1000
        }
      },
      "source": [
        "from keras.applications.vgg16 import (\n",
        "    VGG16, preprocess_input, decode_predictions)\n",
        "_model = VGG16(weights='imagenet')\n",
        "_model.summary()"
      ],
      "execution_count": 0,
      "outputs": [
        {
          "output_type": "stream",
          "text": [
            "WARNING:tensorflow:From /usr/local/lib/python3.6/dist-packages/keras/backend/tensorflow_backend.py:541: The name tf.placeholder is deprecated. Please use tf.compat.v1.placeholder instead.\n",
            "\n",
            "WARNING:tensorflow:From /usr/local/lib/python3.6/dist-packages/keras/backend/tensorflow_backend.py:4267: The name tf.nn.max_pool is deprecated. Please use tf.nn.max_pool2d instead.\n",
            "\n",
            "Downloading data from https://github.com/fchollet/deep-learning-models/releases/download/v0.1/vgg16_weights_tf_dim_ordering_tf_kernels.h5\n",
            "553467904/553467096 [==============================] - 12s 0us/step\n",
            "WARNING:tensorflow:From /usr/local/lib/python3.6/dist-packages/keras/backend/tensorflow_backend.py:190: The name tf.get_default_session is deprecated. Please use tf.compat.v1.get_default_session instead.\n",
            "\n",
            "WARNING:tensorflow:From /usr/local/lib/python3.6/dist-packages/keras/backend/tensorflow_backend.py:197: The name tf.ConfigProto is deprecated. Please use tf.compat.v1.ConfigProto instead.\n",
            "\n",
            "WARNING:tensorflow:From /usr/local/lib/python3.6/dist-packages/keras/backend/tensorflow_backend.py:203: The name tf.Session is deprecated. Please use tf.compat.v1.Session instead.\n",
            "\n",
            "WARNING:tensorflow:From /usr/local/lib/python3.6/dist-packages/keras/backend/tensorflow_backend.py:207: The name tf.global_variables is deprecated. Please use tf.compat.v1.global_variables instead.\n",
            "\n",
            "WARNING:tensorflow:From /usr/local/lib/python3.6/dist-packages/keras/backend/tensorflow_backend.py:216: The name tf.is_variable_initialized is deprecated. Please use tf.compat.v1.is_variable_initialized instead.\n",
            "\n",
            "WARNING:tensorflow:From /usr/local/lib/python3.6/dist-packages/keras/backend/tensorflow_backend.py:223: The name tf.variables_initializer is deprecated. Please use tf.compat.v1.variables_initializer instead.\n",
            "\n",
            "Model: \"vgg16\"\n",
            "_________________________________________________________________\n",
            "Layer (type)                 Output Shape              Param #   \n",
            "=================================================================\n",
            "input_1 (InputLayer)         (None, 224, 224, 3)       0         \n",
            "_________________________________________________________________\n",
            "block1_conv1 (Conv2D)        (None, 224, 224, 64)      1792      \n",
            "_________________________________________________________________\n",
            "block1_conv2 (Conv2D)        (None, 224, 224, 64)      36928     \n",
            "_________________________________________________________________\n",
            "block1_pool (MaxPooling2D)   (None, 112, 112, 64)      0         \n",
            "_________________________________________________________________\n",
            "block2_conv1 (Conv2D)        (None, 112, 112, 128)     73856     \n",
            "_________________________________________________________________\n",
            "block2_conv2 (Conv2D)        (None, 112, 112, 128)     147584    \n",
            "_________________________________________________________________\n",
            "block2_pool (MaxPooling2D)   (None, 56, 56, 128)       0         \n",
            "_________________________________________________________________\n",
            "block3_conv1 (Conv2D)        (None, 56, 56, 256)       295168    \n",
            "_________________________________________________________________\n",
            "block3_conv2 (Conv2D)        (None, 56, 56, 256)       590080    \n",
            "_________________________________________________________________\n",
            "block3_conv3 (Conv2D)        (None, 56, 56, 256)       590080    \n",
            "_________________________________________________________________\n",
            "block3_pool (MaxPooling2D)   (None, 28, 28, 256)       0         \n",
            "_________________________________________________________________\n",
            "block4_conv1 (Conv2D)        (None, 28, 28, 512)       1180160   \n",
            "_________________________________________________________________\n",
            "block4_conv2 (Conv2D)        (None, 28, 28, 512)       2359808   \n",
            "_________________________________________________________________\n",
            "block4_conv3 (Conv2D)        (None, 28, 28, 512)       2359808   \n",
            "_________________________________________________________________\n",
            "block4_pool (MaxPooling2D)   (None, 14, 14, 512)       0         \n",
            "_________________________________________________________________\n",
            "block5_conv1 (Conv2D)        (None, 14, 14, 512)       2359808   \n",
            "_________________________________________________________________\n",
            "block5_conv2 (Conv2D)        (None, 14, 14, 512)       2359808   \n",
            "_________________________________________________________________\n",
            "block5_conv3 (Conv2D)        (None, 14, 14, 512)       2359808   \n",
            "_________________________________________________________________\n",
            "block5_pool (MaxPooling2D)   (None, 7, 7, 512)         0         \n",
            "_________________________________________________________________\n",
            "flatten (Flatten)            (None, 25088)             0         \n",
            "_________________________________________________________________\n",
            "fc1 (Dense)                  (None, 4096)              102764544 \n",
            "_________________________________________________________________\n",
            "fc2 (Dense)                  (None, 4096)              16781312  \n",
            "_________________________________________________________________\n",
            "predictions (Dense)          (None, 1000)              4097000   \n",
            "=================================================================\n",
            "Total params: 138,357,544\n",
            "Trainable params: 138,357,544\n",
            "Non-trainable params: 0\n",
            "_________________________________________________________________\n"
          ],
          "name": "stdout"
        }
      ]
    },
    {
      "cell_type": "code",
      "metadata": {
        "id": "I4CAQq5w4Xjm",
        "colab_type": "code",
        "colab": {}
      },
      "source": [
        ""
      ],
      "execution_count": 0,
      "outputs": []
    }
  ]
}